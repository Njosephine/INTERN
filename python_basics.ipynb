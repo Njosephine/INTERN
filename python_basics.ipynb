{
 "cells": [
  {
   "cell_type": "code",
   "execution_count": 1,
   "id": "23ce614b-40f3-481c-a852-3faa39450f47",
   "metadata": {},
   "outputs": [
    {
     "name": "stdout",
     "output_type": "stream",
     "text": [
      "elt\n"
     ]
    }
   ],
   "source": [
    "\n",
    "str =\"hellothere , am happy\"\n",
    "substr = str[1:6:2]\n",
    "print(substr)"
   ]
  },
  {
   "cell_type": "code",
   "execution_count": 1,
   "id": "bf68f18f-82f8-4b06-befe-b46e5cccf3a6",
   "metadata": {},
   "outputs": [
    {
     "name": "stdout",
     "output_type": "stream",
     "text": [
      "Requirement already satisfied: numpy in c:\\users\\jose\\appdata\\local\\programs\\python\\python312\\lib\\site-packages (1.26.4)\n",
      "Requirement already satisfied: pandas in c:\\users\\jose\\appdata\\local\\programs\\python\\python312\\lib\\site-packages (2.2.2)\n",
      "Requirement already satisfied: numpy>=1.26.0 in c:\\users\\jose\\appdata\\local\\programs\\python\\python312\\lib\\site-packages (from pandas) (1.26.4)\n",
      "Requirement already satisfied: python-dateutil>=2.8.2 in c:\\users\\jose\\appdata\\local\\programs\\python\\python312\\lib\\site-packages (from pandas) (2.9.0.post0)\n",
      "Requirement already satisfied: pytz>=2020.1 in c:\\users\\jose\\appdata\\local\\programs\\python\\python312\\lib\\site-packages (from pandas) (2024.1)\n",
      "Requirement already satisfied: tzdata>=2022.7 in c:\\users\\jose\\appdata\\local\\programs\\python\\python312\\lib\\site-packages (from pandas) (2024.1)\n",
      "Requirement already satisfied: six>=1.5 in c:\\users\\jose\\appdata\\local\\programs\\python\\python312\\lib\\site-packages (from python-dateutil>=2.8.2->pandas) (1.16.0)\n"
     ]
    }
   ],
   "source": [
    "!pip install numpy\n",
    "!pip install pandas"
   ]
  },
  {
   "cell_type": "code",
   "execution_count": 2,
   "id": "378b89f3-421a-498f-9212-65422fe8482b",
   "metadata": {},
   "outputs": [
    {
     "name": "stdout",
     "output_type": "stream",
     "text": [
      "ello \n"
     ]
    }
   ],
   "source": [
    "str =\"hello there , am happy\"\n",
    "substr = str[1:6]\n",
    "print(substr)"
   ]
  },
  {
   "cell_type": "code",
   "execution_count": 3,
   "id": "0a3e95e0-2a4d-4a6e-9c9d-1b8f6a367a95",
   "metadata": {},
   "outputs": [
    {
     "name": "stdout",
     "output_type": "stream",
     "text": [
      "there , am happy\n"
     ]
    }
   ],
   "source": [
    "str =\"hello there , am happy\"\n",
    "substr = str[6:]\n",
    "print(substr)"
   ]
  },
  {
   "cell_type": "code",
   "execution_count": 4,
   "id": "119e177f-12fd-416c-9d0e-25361d0b55b3",
   "metadata": {},
   "outputs": [
    {
     "name": "stdout",
     "output_type": "stream",
     "text": [
      "ellot\n"
     ]
    }
   ],
   "source": [
    "str =\"hellothere , am happy\"\n",
    "substr = str[1:6]\n",
    "print(substr)"
   ]
  },
  {
   "cell_type": "code",
   "execution_count": 5,
   "id": "f73473cf-c4d5-48a9-a05b-80be8d9494f1",
   "metadata": {},
   "outputs": [
    {
     "name": "stdout",
     "output_type": "stream",
     "text": [
      "hello there , am happy\n"
     ]
    }
   ],
   "source": [
    "str =\"hello there , am happy\"\n",
    "substr = str[:]\n",
    "print(substr)"
   ]
  },
  {
   "cell_type": "code",
   "execution_count": 6,
   "id": "ada5165a-1fda-4435-8db6-16d50ea6bcf0",
   "metadata": {},
   "outputs": [
    {
     "data": {
      "text/plain": [
       "'Hello there , am happy'"
      ]
     },
     "execution_count": 6,
     "metadata": {},
     "output_type": "execute_result"
    }
   ],
   "source": [
    "str.capitalize()"
   ]
  },
  {
   "cell_type": "code",
   "execution_count": 7,
   "id": "d7c795a7-cdd0-4845-a153-8cb35b65e89a",
   "metadata": {},
   "outputs": [
    {
     "data": {
      "text/plain": [
       "3"
      ]
     },
     "execution_count": 7,
     "metadata": {},
     "output_type": "execute_result"
    }
   ],
   "source": [
    "str.count('e')"
   ]
  },
  {
   "cell_type": "code",
   "execution_count": 8,
   "id": "21b0da19-e673-461d-9785-786e152bdda2",
   "metadata": {},
   "outputs": [
    {
     "data": {
      "text/plain": [
       "1"
      ]
     },
     "execution_count": 8,
     "metadata": {},
     "output_type": "execute_result"
    }
   ],
   "source": [
    "str .index('e')"
   ]
  },
  {
   "cell_type": "code",
   "execution_count": 9,
   "id": "6d210c91-a975-4708-8922-f2b53f8f9816",
   "metadata": {},
   "outputs": [
    {
     "data": {
      "text/plain": [
       "['hello', 'there', ',', 'am', 'happy']"
      ]
     },
     "execution_count": 9,
     "metadata": {},
     "output_type": "execute_result"
    }
   ],
   "source": [
    "str .split()"
   ]
  },
  {
   "cell_type": "code",
   "execution_count": 1,
   "id": "027f0f36-240c-4250-aa85-5b475446507f",
   "metadata": {},
   "outputs": [
    {
     "name": "stdout",
     "output_type": "stream",
     "text": [
      "introduction to python\n",
      "python is fun\n"
     ]
    }
   ],
   "source": [
    "#----print messages in python\n",
    "print('introduction to python')\n",
    "print('python is fun')\n",
    "\n"
   ]
  },
  {
   "cell_type": "code",
   "execution_count": 2,
   "id": "0f19c4a0-7122-41b6-8179-2d4c128cc29d",
   "metadata": {},
   "outputs": [
    {
     "name": "stdout",
     "output_type": "stream",
     "text": [
      "40.0\n"
     ]
    }
   ],
   "source": [
    "#---compute an expression\n",
    "print(10+20*3/2)"
   ]
  },
  {
   "cell_type": "code",
   "execution_count": 2,
   "id": "10117803-e5f9-41ab-9f3c-0d237fa8c600",
   "metadata": {},
   "outputs": [],
   "source": [
    "#graphics programming\n",
    "#import turtle is used for graphics programming\n",
    "# turtule refers to the object for drawin graphics\n",
    "#defining a turtle\n",
    "import turtle # Import turtle module\n",
    "\n",
    "\n",
    "#direction of a turtle\n",
    "turtle.showturtle()\n",
    "\n",
    "\n",
    "\n"
   ]
  },
  {
   "cell_type": "code",
   "execution_count": 8,
   "id": "588d66b9-2f8e-430d-9c4d-d5f489900dcb",
   "metadata": {},
   "outputs": [],
   "source": [
    "\n",
    "#drawing a text line\n",
    "turtle.write(\"Welcome to Python\")"
   ]
  },
  {
   "cell_type": "code",
   "execution_count": 12,
   "id": "76e4d0d8-1592-4315-963a-8e58e1a6ec1c",
   "metadata": {},
   "outputs": [],
   "source": [
    "#move the arrowhead 100 pixels forward to draw a line in the direction the arrow is pointing\n",
    "turtle.forward(50)"
   ]
  },
  {
   "cell_type": "code",
   "execution_count": 1,
   "id": "a5774bb5-aa0f-4563-a4ac-743c9700c0a2",
   "metadata": {},
   "outputs": [
    {
     "data": {
      "text/plain": [
       "5"
      ]
     },
     "execution_count": 1,
     "metadata": {},
     "output_type": "execute_result"
    }
   ],
   "source": [
    "2+3"
   ]
  },
  {
   "cell_type": "code",
   "execution_count": 8,
   "id": "cd92d91c-80c7-4da8-b99e-8816a913f545",
   "metadata": {},
   "outputs": [
    {
     "data": {
      "text/plain": [
       "0.6666666666666666"
      ]
     },
     "execution_count": 8,
     "metadata": {},
     "output_type": "execute_result"
    }
   ],
   "source": [
    "# outputs a float value\n",
    "2/3\n"
   ]
  },
  {
   "cell_type": "code",
   "execution_count": 2,
   "id": "26c2d082-4ced-4528-a3bd-27f7ff2e32ed",
   "metadata": {},
   "outputs": [
    {
     "data": {
      "text/plain": [
       "0"
      ]
     },
     "execution_count": 2,
     "metadata": {},
     "output_type": "execute_result"
    }
   ],
   "source": [
    "#outputs an integer value\n",
    "2//3"
   ]
  },
  {
   "cell_type": "code",
   "execution_count": 9,
   "id": "8037796a-0bbb-4f2c-8e1f-2d32fedede14",
   "metadata": {},
   "outputs": [
    {
     "data": {
      "text/plain": [
       "2.0"
      ]
     },
     "execution_count": 9,
     "metadata": {},
     "output_type": "execute_result"
    }
   ],
   "source": [
    "4/2"
   ]
  },
  {
   "cell_type": "code",
   "execution_count": 10,
   "id": "1b1799db-8b2f-4291-9de6-bf00cecdad8e",
   "metadata": {},
   "outputs": [
    {
     "data": {
      "text/plain": [
       "144"
      ]
     },
     "execution_count": 10,
     "metadata": {},
     "output_type": "execute_result"
    }
   ],
   "source": [
    "# power values\n",
    "12**2"
   ]
  },
  {
   "cell_type": "code",
   "execution_count": 11,
   "id": "2fb74875-7803-4f4b-8469-2a1b882e9609",
   "metadata": {},
   "outputs": [
    {
     "data": {
      "text/plain": [
       "36"
      ]
     },
     "execution_count": 11,
     "metadata": {},
     "output_type": "execute_result"
    }
   ],
   "source": [
    "6**2"
   ]
  },
  {
   "cell_type": "code",
   "execution_count": 12,
   "id": "8732bdda-94a6-4011-a75a-bdf3f0a1a39e",
   "metadata": {},
   "outputs": [
    {
     "data": {
      "text/plain": [
       "1"
      ]
     },
     "execution_count": 12,
     "metadata": {},
     "output_type": "execute_result"
    }
   ],
   "source": [
    "#outputs a reminder\n",
    "5%2"
   ]
  },
  {
   "cell_type": "code",
   "execution_count": 13,
   "id": "31e6e5c3-35fc-49a3-bce7-31ea7eeb64b1",
   "metadata": {},
   "outputs": [
    {
     "data": {
      "text/plain": [
       "1"
      ]
     },
     "execution_count": 13,
     "metadata": {},
     "output_type": "execute_result"
    }
   ],
   "source": [
    "2-3+2"
   ]
  },
  {
   "cell_type": "code",
   "execution_count": 14,
   "id": "6841f56e-a2cd-448b-9b2e-cbfdf70af736",
   "metadata": {},
   "outputs": [
    {
     "data": {
      "text/plain": [
       "-3"
      ]
     },
     "execution_count": 14,
     "metadata": {},
     "output_type": "execute_result"
    }
   ],
   "source": [
    "#application of bodmas\n",
    "2-(3+2)"
   ]
  },
  {
   "cell_type": "code",
   "execution_count": 15,
   "id": "069f0b6a-e080-415c-8c96-8058bf705675",
   "metadata": {},
   "outputs": [
    {
     "name": "stdout",
     "output_type": "stream",
     "text": [
      "JOSEPHINE IS LEARNING PYTHON\n"
     ]
    }
   ],
   "source": [
    "#printing out string statements\n",
    "print('JOSEPHINE IS LEARNING PYTHON')"
   ]
  },
  {
   "cell_type": "code",
   "execution_count": 16,
   "id": "78b7e1b3-e4c9-4151-95bd-e89aba750168",
   "metadata": {},
   "outputs": [
    {
     "ename": "SyntaxError",
     "evalue": "unterminated string literal (detected at line 1) (4075368208.py, line 1)",
     "output_type": "error",
     "traceback": [
      "\u001b[1;36m  Cell \u001b[1;32mIn[16], line 1\u001b[1;36m\u001b[0m\n\u001b[1;33m    print('jose's laptop')\u001b[0m\n\u001b[1;37m                        ^\u001b[0m\n\u001b[1;31mSyntaxError\u001b[0m\u001b[1;31m:\u001b[0m unterminated string literal (detected at line 1)\n"
     ]
    }
   ],
   "source": [
    "#error is generated \n",
    "print('jose's laptop')"
   ]
  },
  {
   "cell_type": "code",
   "execution_count": 17,
   "id": "0ca8761e-8287-4026-aca1-0b6723289dd7",
   "metadata": {},
   "outputs": [
    {
     "name": "stdout",
     "output_type": "stream",
     "text": [
      "jose's laptop\n"
     ]
    }
   ],
   "source": [
    "#to solve error use the double and the single quotes\n",
    "print(\"jose's laptop\")"
   ]
  },
  {
   "cell_type": "code",
   "execution_count": 37,
   "id": "10ffd863-71be-4b68-ae55-eb8635399089",
   "metadata": {},
   "outputs": [
    {
     "name": "stdout",
     "output_type": "stream",
     "text": [
      "jose \"is smart\"\n"
     ]
    }
   ],
   "source": [
    "#if u want to quote a certain word\n",
    "print('jose \"is smart\"')"
   ]
  },
  {
   "cell_type": "code",
   "execution_count": 20,
   "id": "24f60589-e306-49e4-b6a5-fd9fb2609148",
   "metadata": {},
   "outputs": [
    {
     "name": "stdout",
     "output_type": "stream",
     "text": [
      "jose's \"laptop\"\n"
     ]
    }
   ],
   "source": [
    "#use of a backslash\n",
    "print('jose\\'s \"laptop\"')"
   ]
  },
  {
   "cell_type": "code",
   "execution_count": 22,
   "id": "2ae24778-ac92-4f79-a35d-f02d1ddfce13",
   "metadata": {},
   "outputs": [
    {
     "name": "stdout",
     "output_type": "stream",
     "text": [
      "josejose\n"
     ]
    }
   ],
   "source": [
    "#concatenation\n",
    "print('jose' + 'jose')"
   ]
  },
  {
   "cell_type": "code",
   "execution_count": 29,
   "id": "5dd0d926-f222-498d-9c8f-6230cd61abf6",
   "metadata": {},
   "outputs": [
    {
     "name": "stdout",
     "output_type": "stream",
     "text": [
      "jose jose\n"
     ]
    }
   ],
   "source": [
    "#word spacing\n",
    "print('jose' + ' ' + 'jose')"
   ]
  },
  {
   "cell_type": "code",
   "execution_count": 30,
   "id": "fcedf5a3-7f4b-4264-84ba-a2d2d8bbad9e",
   "metadata": {},
   "outputs": [
    {
     "name": "stdout",
     "output_type": "stream",
     "text": [
      "jose jose\n"
     ]
    }
   ],
   "source": [
    "print(\"jose\" + \" \" + \"jose\")"
   ]
  },
  {
   "cell_type": "code",
   "execution_count": 36,
   "id": "ed3086a5-23c7-4121-8174-dd2689ac1607",
   "metadata": {},
   "outputs": [
    {
     "name": "stdout",
     "output_type": "stream",
     "text": [
      "jose is smart\n"
     ]
    }
   ],
   "source": [
    "print('jose'+ ' ' + \"is smart\")"
   ]
  },
  {
   "cell_type": "code",
   "execution_count": 42,
   "id": "acb6e1ed-4247-4af7-a3d5-15e1f7d4c088",
   "metadata": {},
   "outputs": [
    {
     "name": "stdout",
     "output_type": "stream",
     "text": [
      "c:\\docs\\jose\n"
     ]
    }
   ],
   "source": [
    "#raw string---printing c:\\docs\\jose put r\n",
    "print( r'c:\\docs\\jose')"
   ]
  },
  {
   "cell_type": "code",
   "execution_count": 43,
   "id": "d4a542ec-fc21-4e98-bf66-53bebf0b367b",
   "metadata": {},
   "outputs": [
    {
     "name": "stdout",
     "output_type": "stream",
     "text": [
      "c:\\docs\\jose\n"
     ]
    },
    {
     "name": "stderr",
     "output_type": "stream",
     "text": [
      "<>:1: SyntaxWarning: invalid escape sequence '\\d'\n",
      "<>:1: SyntaxWarning: invalid escape sequence '\\d'\n",
      "C:\\Users\\Jose\\AppData\\Local\\Temp\\ipykernel_7864\\3851768091.py:1: SyntaxWarning: invalid escape sequence '\\d'\n",
      "  print('c:\\docs\\jose')\n"
     ]
    }
   ],
   "source": [
    "print('c:\\docs\\jose')"
   ]
  },
  {
   "cell_type": "code",
   "execution_count": 47,
   "id": "c6a361c3-f0b2-4f2b-8255-144c4b2bd4cd",
   "metadata": {},
   "outputs": [
    {
     "name": "stdout",
     "output_type": "stream",
     "text": [
      "jose jose jose jose jose jose jose jose jose jose \n"
     ]
    }
   ],
   "source": [
    "#printing jose multiple times but wen they are spaced\n",
    "print(10*'jose' ' ')"
   ]
  },
  {
   "cell_type": "code",
   "execution_count": 62,
   "id": "e55d5ad2-cf5a-48db-87e9-5d14afe91ef3",
   "metadata": {},
   "outputs": [
    {
     "data": {
      "text/plain": [
       "4"
      ]
     },
     "execution_count": 62,
     "metadata": {},
     "output_type": "execute_result"
    }
   ],
   "source": [
    "#VARIABLES IN PYTHON\n",
    "#Variable is a container that stores a value\n",
    "x = 2\n",
    "x + 2\n",
    "\n"
   ]
  },
  {
   "cell_type": "code",
   "execution_count": 66,
   "id": "17f35750-4b2d-4371-bd8d-cc260ea2f631",
   "metadata": {},
   "outputs": [
    {
     "data": {
      "text/plain": [
       "5"
      ]
     },
     "execution_count": 66,
     "metadata": {},
     "output_type": "execute_result"
    }
   ],
   "source": [
    "y = 3\n",
    "x + y"
   ]
  },
  {
   "cell_type": "code",
   "execution_count": 67,
   "id": "d4b36b60-ecfb-4645-b6ed-6eb1943ff760",
   "metadata": {},
   "outputs": [
    {
     "data": {
      "text/plain": [
       "7"
      ]
     },
     "execution_count": 67,
     "metadata": {},
     "output_type": "execute_result"
    }
   ],
   "source": [
    "x = 4\n",
    "x + y"
   ]
  },
  {
   "cell_type": "code",
   "execution_count": 69,
   "id": "07febf5d-a08b-4e2f-a4e0-9b422b2b5933",
   "metadata": {},
   "outputs": [
    {
     "data": {
      "text/plain": [
       "'youtube'"
      ]
     },
     "execution_count": 69,
     "metadata": {},
     "output_type": "execute_result"
    }
   ],
   "source": [
    "name = 'youtube'\n",
    "name"
   ]
  },
  {
   "cell_type": "code",
   "execution_count": 70,
   "id": "98f77a7a-1ede-4b12-941d-b609fea0baa4",
   "metadata": {},
   "outputs": [
    {
     "name": "stdout",
     "output_type": "stream",
     "text": [
      "youtube\n"
     ]
    }
   ],
   "source": [
    "print(name)"
   ]
  },
  {
   "cell_type": "code",
   "execution_count": 71,
   "id": "b021f352-d68a-4609-a9cc-e542c4cd7b14",
   "metadata": {},
   "outputs": [
    {
     "data": {
      "text/plain": [
       "'youtuberocks'"
      ]
     },
     "execution_count": 71,
     "metadata": {},
     "output_type": "execute_result"
    }
   ],
   "source": [
    "name + 'rocks'"
   ]
  },
  {
   "cell_type": "code",
   "execution_count": 72,
   "id": "4cf5e7ab-4069-4963-801c-03332515ee36",
   "metadata": {},
   "outputs": [
    {
     "data": {
      "text/plain": [
       "'youtube rocks'"
      ]
     },
     "execution_count": 72,
     "metadata": {},
     "output_type": "execute_result"
    }
   ],
   "source": [
    "name + ' ' + 'rocks'"
   ]
  },
  {
   "cell_type": "code",
   "execution_count": 77,
   "id": "db5fdfbd-31cf-406b-b34e-63a2487ba66d",
   "metadata": {},
   "outputs": [
    {
     "ename": "SyntaxError",
     "evalue": "invalid syntax (639239415.py, line 1)",
     "output_type": "error",
     "traceback": [
      "\u001b[1;36m  Cell \u001b[1;32mIn[77], line 1\u001b[1;36m\u001b[0m\n\u001b[1;33m    name 'rocks'\u001b[0m\n\u001b[1;37m         ^\u001b[0m\n\u001b[1;31mSyntaxError\u001b[0m\u001b[1;31m:\u001b[0m invalid syntax\n"
     ]
    }
   ],
   "source": [
    "name 'rocks'"
   ]
  },
  {
   "cell_type": "code",
   "execution_count": 74,
   "id": "92aa7c2f-bc57-4e3c-a003-ea1b86952a99",
   "metadata": {},
   "outputs": [
    {
     "data": {
      "text/plain": [
       "'o'"
      ]
     },
     "execution_count": 74,
     "metadata": {},
     "output_type": "execute_result"
    }
   ],
   "source": [
    "#indexing\n",
    "name[1]"
   ]
  },
  {
   "cell_type": "code",
   "execution_count": 75,
   "id": "6acfe232-cfa8-46c5-b7f0-d26c28ee537f",
   "metadata": {},
   "outputs": [
    {
     "data": {
      "text/plain": [
       "'b'"
      ]
     },
     "execution_count": 75,
     "metadata": {},
     "output_type": "execute_result"
    }
   ],
   "source": [
    "name[-2]"
   ]
  },
  {
   "cell_type": "code",
   "execution_count": 76,
   "id": "1fe45808-4e51-4d07-bfa1-9bd35d87a834",
   "metadata": {},
   "outputs": [
    {
     "data": {
      "text/plain": [
       "'o'"
      ]
     },
     "execution_count": 76,
     "metadata": {},
     "output_type": "execute_result"
    }
   ],
   "source": [
    "name[1:2]"
   ]
  },
  {
   "cell_type": "code",
   "execution_count": 78,
   "id": "2c6f4880-e70b-497a-afb3-1de072ea5ede",
   "metadata": {},
   "outputs": [
    {
     "data": {
      "text/plain": [
       "'out'"
      ]
     },
     "execution_count": 78,
     "metadata": {},
     "output_type": "execute_result"
    }
   ],
   "source": [
    "name[1:4]"
   ]
  },
  {
   "cell_type": "code",
   "execution_count": 83,
   "id": "d39d9446-892b-4164-b5c1-f427647b20a0",
   "metadata": {},
   "outputs": [
    {
     "data": {
      "text/plain": [
       "array([     0,      1,      2, ..., 999997, 999998, 999999])"
      ]
     },
     "execution_count": 83,
     "metadata": {},
     "output_type": "execute_result"
    }
   ],
   "source": [
    "#NUMPYNARRAY\n",
    "\n",
    "import numpy as np \n",
    "\n",
    "my_arr = np.arange(1_000_000)\n",
    "my_list = list(range(1_000_000))\n",
    "my_arr\n"
   ]
  },
  {
   "cell_type": "code",
   "execution_count": 91,
   "id": "b4ad5d90-7177-49ed-8c78-11f4afa7a342",
   "metadata": {},
   "outputs": [
    {
     "data": {
      "text/plain": [
       "[[1, 2, 3, 4], [5, 6, 7, 8], [9, 10, 11, 12]]"
      ]
     },
     "execution_count": 91,
     "metadata": {},
     "output_type": "execute_result"
    }
   ],
   "source": [
    "#list of lists  of integers\n",
    "lst = [[1, 2, 3, 4], [5, 6, 7, 8], [9, 10, 11, 12]]\n",
    "lst"
   ]
  },
  {
   "cell_type": "code",
   "execution_count": 93,
   "id": "e0e61568-7ad9-4374-8bd9-157d137ed6a6",
   "metadata": {},
   "outputs": [
    {
     "data": {
      "text/plain": [
       "array([[ 1,  2,  3,  4],\n",
       "       [ 5,  6,  7,  8],\n",
       "       [ 9, 10, 11, 12]])"
      ]
     },
     "execution_count": 93,
     "metadata": {},
     "output_type": "execute_result"
    }
   ],
   "source": [
    "np.array(lst)"
   ]
  },
  {
   "cell_type": "code",
   "execution_count": 94,
   "id": "06c5ec0c-d0fb-4f09-a0d4-1cdde62947ac",
   "metadata": {},
   "outputs": [
    {
     "data": {
      "text/plain": [
       "[[1, 2, 3, 4], [5, 6, 7, 8], [9, 10, 11, 12]]"
      ]
     },
     "execution_count": 94,
     "metadata": {},
     "output_type": "execute_result"
    }
   ],
   "source": [
    "lst"
   ]
  },
  {
   "cell_type": "code",
   "execution_count": 94,
   "id": "fdad1782-5c53-4ce2-8a45-f0296f8be7f6",
   "metadata": {},
   "outputs": [
    {
     "data": {
      "text/plain": [
       "[[1, 2, 3, 4], [5, 6, 7, 8], [9, 10, 11, 12]]"
      ]
     },
     "execution_count": 94,
     "metadata": {},
     "output_type": "execute_result"
    }
   ],
   "source": [
    "lst"
   ]
  },
  {
   "cell_type": "code",
   "execution_count": null,
   "id": "1d9ea602-78fd-45a5-b262-dac1d6a1ac89",
   "metadata": {},
   "outputs": [],
   "source": []
  },
  {
   "cell_type": "code",
   "execution_count": 96,
   "id": "f473401f-16c9-4f2b-986d-db71b1dceb7c",
   "metadata": {},
   "outputs": [],
   "source": [
    "#shapes\n",
    "data =np.array(lst)"
   ]
  },
  {
   "cell_type": "code",
   "execution_count": 97,
   "id": "27213e30-ac96-46bf-a39d-6b33b6bf1468",
   "metadata": {},
   "outputs": [
    {
     "data": {
      "text/plain": [
       "(3, 4)"
      ]
     },
     "execution_count": 97,
     "metadata": {},
     "output_type": "execute_result"
    }
   ],
   "source": [
    "data.shape"
   ]
  },
  {
   "cell_type": "code",
   "execution_count": 98,
   "id": "ab427269-aa16-424b-9544-f3c8d62964ef",
   "metadata": {},
   "outputs": [
    {
     "data": {
      "text/plain": [
       "array([1., 2., 3.])"
      ]
     },
     "execution_count": 98,
     "metadata": {},
     "output_type": "execute_result"
    }
   ],
   "source": [
    "#getting a datatype\n",
    "arr2 = np.array([1,2,3],dtype = np.float64)\n",
    "arr2"
   ]
  },
  {
   "cell_type": "code",
   "execution_count": 103,
   "id": "f5ab0692-3de7-4ddb-b87e-eed3c64e005e",
   "metadata": {},
   "outputs": [
    {
     "data": {
      "text/plain": [
       "array([1.+0.j, 2.+0.j, 3.+0.j])"
      ]
     },
     "execution_count": 103,
     "metadata": {},
     "output_type": "execute_result"
    }
   ],
   "source": [
    "arr3 = np.array([1,2,3],dtype = np.complex128)\n",
    "arr3"
   ]
  },
  {
   "cell_type": "code",
   "execution_count": 105,
   "id": "7aebe628-e90a-4ecf-81d2-d0c9696f78c2",
   "metadata": {},
   "outputs": [
    {
     "name": "stderr",
     "output_type": "stream",
     "text": [
      "C:\\Users\\Jose\\AppData\\Local\\Temp\\ipykernel_7864\\3033543015.py:1: ComplexWarning: Casting complex values to real discards the imaginary part\n",
      "  arr3.astype(np.int8)\n"
     ]
    },
    {
     "data": {
      "text/plain": [
       "array([1, 2, 3], dtype=int8)"
      ]
     },
     "execution_count": 105,
     "metadata": {},
     "output_type": "execute_result"
    }
   ],
   "source": [
    "arr3.astype(np.int8)\n"
   ]
  },
  {
   "cell_type": "code",
   "execution_count": 109,
   "id": "0c36643b-0ef5-43fd-9128-087ebcfa80f7",
   "metadata": {},
   "outputs": [
    {
     "data": {
      "text/plain": [
       "array([0, 1, 2, 3, 4, 5, 6, 7, 8, 9])"
      ]
     },
     "execution_count": 109,
     "metadata": {},
     "output_type": "execute_result"
    }
   ],
   "source": [
    "int_array = np.arange(10)\n",
    "int_array"
   ]
  },
  {
   "cell_type": "code",
   "execution_count": 110,
   "id": "da0e0721-d016-4e82-a346-2135da85e43f",
   "metadata": {},
   "outputs": [
    {
     "data": {
      "text/plain": [
       "array([[1, 2, 3],\n",
       "       [4, 3, 1]])"
      ]
     },
     "execution_count": 110,
     "metadata": {},
     "output_type": "execute_result"
    }
   ],
   "source": [
    "#Arithmetic With Numpy\n",
    "arr = np.array([[1,2,3],[4,3,1]])\n",
    "arr"
   ]
  },
  {
   "cell_type": "code",
   "execution_count": 111,
   "id": "b01deeb6-74c2-40c6-804b-a7cab220e0be",
   "metadata": {},
   "outputs": [
    {
     "data": {
      "text/plain": [
       "array([[ 1,  4,  9],\n",
       "       [16,  9,  1]])"
      ]
     },
     "execution_count": 111,
     "metadata": {},
     "output_type": "execute_result"
    }
   ],
   "source": [
    "arr * arr"
   ]
  },
  {
   "cell_type": "code",
   "execution_count": 112,
   "id": "9bb85c57-b235-4a2a-92da-a1b162076434",
   "metadata": {},
   "outputs": [
    {
     "data": {
      "text/plain": [
       "array([[2, 4, 6],\n",
       "       [8, 6, 2]])"
      ]
     },
     "execution_count": 112,
     "metadata": {},
     "output_type": "execute_result"
    }
   ],
   "source": [
    "arr + arr"
   ]
  },
  {
   "cell_type": "code",
   "execution_count": 113,
   "id": "521187bd-e19f-423d-b45e-6605a71aefcd",
   "metadata": {},
   "outputs": [
    {
     "data": {
      "text/plain": [
       "array([[0, 0, 0],\n",
       "       [0, 0, 0]])"
      ]
     },
     "execution_count": 113,
     "metadata": {},
     "output_type": "execute_result"
    }
   ],
   "source": [
    "arr - arr"
   ]
  },
  {
   "cell_type": "code",
   "execution_count": 114,
   "id": "6ea96bb9-c70b-4d60-aa24-5b56e7ac3137",
   "metadata": {},
   "outputs": [
    {
     "data": {
      "text/plain": [
       "array([[1., 1., 1.],\n",
       "       [1., 1., 1.]])"
      ]
     },
     "execution_count": 114,
     "metadata": {},
     "output_type": "execute_result"
    }
   ],
   "source": [
    "arr / arr"
   ]
  },
  {
   "cell_type": "code",
   "execution_count": 115,
   "id": "018b506d-4ce8-46d2-81ad-77c8b253a8a4",
   "metadata": {},
   "outputs": [
    {
     "data": {
      "text/plain": [
       "array([[3, 0, 1],\n",
       "       [6, 1, 3]], dtype=int32)"
      ]
     },
     "execution_count": 115,
     "metadata": {},
     "output_type": "execute_result"
    }
   ],
   "source": [
    "arr^2"
   ]
  },
  {
   "cell_type": "code",
   "execution_count": 116,
   "id": "d790aab5-f0e0-40af-a94a-57451d300f76",
   "metadata": {},
   "outputs": [
    {
     "data": {
      "text/plain": [
       "array([[ 1,  4,  9],\n",
       "       [16,  9,  1]])"
      ]
     },
     "execution_count": 116,
     "metadata": {},
     "output_type": "execute_result"
    }
   ],
   "source": [
    "arr **2"
   ]
  },
  {
   "cell_type": "code",
   "execution_count": 117,
   "id": "5e38513b-b3e5-4cd6-bc66-d391f12135c2",
   "metadata": {},
   "outputs": [
    {
     "data": {
      "text/plain": [
       "array([[0, 0, 0],\n",
       "       [0, 0, 0]])"
      ]
     },
     "execution_count": 117,
     "metadata": {},
     "output_type": "execute_result"
    }
   ],
   "source": [
    "arr%arr"
   ]
  },
  {
   "cell_type": "code",
   "execution_count": 118,
   "id": "ab7c1a65-dd17-4c0e-844d-d1e723886e9a",
   "metadata": {},
   "outputs": [
    {
     "data": {
      "text/plain": [
       "array([[1.        , 0.5       , 0.33333333],\n",
       "       [0.25      , 0.33333333, 1.        ]])"
      ]
     },
     "execution_count": 118,
     "metadata": {},
     "output_type": "execute_result"
    }
   ],
   "source": [
    "1/arr"
   ]
  },
  {
   "cell_type": "code",
   "execution_count": 119,
   "id": "b0274d1b-f7f8-4c6c-b468-202cfeb2e9e2",
   "metadata": {},
   "outputs": [
    {
     "data": {
      "text/plain": [
       "array([[0., 4., 3.],\n",
       "       [1., 3., 4.]])"
      ]
     },
     "execution_count": 119,
     "metadata": {},
     "output_type": "execute_result"
    }
   ],
   "source": [
    "arr2 = np.array([[0.,4.,3.],[1,3,4]])\n",
    "arr2"
   ]
  },
  {
   "cell_type": "code",
   "execution_count": 120,
   "id": "93b21da3-dcfd-4dec-9d84-bd5822c024aa",
   "metadata": {},
   "outputs": [
    {
     "data": {
      "text/plain": [
       "array([[False,  True, False],\n",
       "       [False, False,  True]])"
      ]
     },
     "execution_count": 120,
     "metadata": {},
     "output_type": "execute_result"
    }
   ],
   "source": [
    "arr2 > arr"
   ]
  },
  {
   "cell_type": "code",
   "execution_count": 134,
   "id": "be3a9fef-387e-484a-8eb0-4ce93c084be7",
   "metadata": {},
   "outputs": [
    {
     "data": {
      "text/plain": [
       "1"
      ]
     },
     "execution_count": 134,
     "metadata": {},
     "output_type": "execute_result"
    }
   ],
   "source": [
    "arr[0,0]"
   ]
  },
  {
   "cell_type": "code",
   "execution_count": 122,
   "id": "9f154b43-4a8a-46af-88db-1105ca8b0f40",
   "metadata": {},
   "outputs": [
    {
     "data": {
      "text/plain": [
       "array([[ True, False,  True],\n",
       "       [ True,  True, False]])"
      ]
     },
     "execution_count": 122,
     "metadata": {},
     "output_type": "execute_result"
    }
   ],
   "source": [
    "arr >= arr2"
   ]
  },
  {
   "cell_type": "code",
   "execution_count": 121,
   "id": "66858eff-ba6c-437f-94d9-019475f214b1",
   "metadata": {},
   "outputs": [
    {
     "data": {
      "text/plain": [
       "array([[ True, False, False],\n",
       "       [ True, False, False]])"
      ]
     },
     "execution_count": 121,
     "metadata": {},
     "output_type": "execute_result"
    }
   ],
   "source": [
    "arr > arr2"
   ]
  },
  {
   "cell_type": "code",
   "execution_count": 123,
   "id": "094a2e9d-1743-4b49-8676-1286d7aedcfb",
   "metadata": {},
   "outputs": [
    {
     "data": {
      "text/plain": [
       "array([[[ 1,  2,  2],\n",
       "        [ 3,  4,  5]],\n",
       "\n",
       "       [[ 6,  7,  8],\n",
       "        [ 9, 10, 11]]])"
      ]
     },
     "execution_count": 123,
     "metadata": {},
     "output_type": "execute_result"
    }
   ],
   "source": [
    "arr3d = np.array([[[1,2,2],[3,4,5]],[[6,7,8],[9,10,11]]])\n",
    "arr3d"
   ]
  },
  {
   "cell_type": "code",
   "execution_count": 132,
   "id": "4f89ced1-43bd-4dea-8896-64c4a9868737",
   "metadata": {},
   "outputs": [
    {
     "data": {
      "text/plain": [
       "array([[1, 2, 2],\n",
       "       [3, 4, 5]])"
      ]
     },
     "execution_count": 132,
     "metadata": {},
     "output_type": "execute_result"
    }
   ],
   "source": [
    "arr3d[0]"
   ]
  },
  {
   "cell_type": "code",
   "execution_count": 131,
   "id": "19c83f3d-a6ad-43ba-82d2-6c1a8e7f8eee",
   "metadata": {},
   "outputs": [
    {
     "data": {
      "text/plain": [
       "array([6, 7, 8])"
      ]
     },
     "execution_count": 131,
     "metadata": {},
     "output_type": "execute_result"
    }
   ],
   "source": [
    "#multiple indexing\n",
    "arr3d[1,0]"
   ]
  },
  {
   "cell_type": "code",
   "execution_count": 136,
   "id": "5cc3b060-fb6d-47ee-9b75-fe1d14b275a3",
   "metadata": {},
   "outputs": [
    {
     "data": {
      "text/plain": [
       "1"
      ]
     },
     "execution_count": 136,
     "metadata": {},
     "output_type": "execute_result"
    }
   ],
   "source": [
    "arr3d[0,0,0]"
   ]
  },
  {
   "cell_type": "code",
   "execution_count": 138,
   "id": "b427a2ee-1f26-44fc-a611-eaa60f946789",
   "metadata": {},
   "outputs": [
    {
     "data": {
      "text/plain": [
       "4"
      ]
     },
     "execution_count": 138,
     "metadata": {},
     "output_type": "execute_result"
    }
   ],
   "source": [
    "arr3d[0,1,1]\n"
   ]
  },
  {
   "cell_type": "code",
   "execution_count": 139,
   "id": "45c3636b-8873-4a56-8b97-0eb286172dd0",
   "metadata": {},
   "outputs": [
    {
     "data": {
      "text/plain": [
       "2"
      ]
     },
     "execution_count": 139,
     "metadata": {},
     "output_type": "execute_result"
    }
   ],
   "source": [
    "arr3d[0,0,1]"
   ]
  },
  {
   "cell_type": "code",
   "execution_count": 140,
   "id": "422f5d66-3b06-48ce-8277-7047070e7522",
   "metadata": {},
   "outputs": [
    {
     "data": {
      "text/plain": [
       "2"
      ]
     },
     "execution_count": 140,
     "metadata": {},
     "output_type": "execute_result"
    }
   ],
   "source": [
    "arr3d[0,0,2]"
   ]
  },
  {
   "cell_type": "code",
   "execution_count": 143,
   "id": "e88d9200-c3a8-4019-a64a-59e537e676e5",
   "metadata": {},
   "outputs": [
    {
     "data": {
      "text/plain": [
       "3"
      ]
     },
     "execution_count": 143,
     "metadata": {},
     "output_type": "execute_result"
    }
   ],
   "source": [
    "arr3d[0,1,0]"
   ]
  },
  {
   "cell_type": "code",
   "execution_count": 2,
   "id": "f77ae1b8-83a8-4093-a449-a3f4fba78556",
   "metadata": {},
   "outputs": [
    {
     "name": "stdout",
     "output_type": "stream",
     "text": [
      "<class 'int'>\n",
      "<class 'str'>\n"
     ]
    }
   ],
   "source": [
    "\n",
    "#casting : specifing the data type of a variable\n",
    "x = 2\n",
    "print (type(x))\n",
    "y = \"string\"\n",
    "print (type(y))\n"
   ]
  },
  {
   "cell_type": "code",
   "execution_count": 5,
   "id": "6131a08d-c1a3-44b4-aad3-6bc3909527f7",
   "metadata": {},
   "outputs": [
    {
     "name": "stdout",
     "output_type": "stream",
     "text": [
      "3\n"
     ]
    }
   ],
   "source": [
    "# variables are case sensitive\n",
    "a = 2\n",
    "A = 3\n",
    "print(A)"
   ]
  },
  {
   "cell_type": "code",
   "execution_count": 11,
   "id": "597d2198-0ded-4068-acf5-5581a2c7caee",
   "metadata": {},
   "outputs": [
    {
     "name": "stdout",
     "output_type": "stream",
     "text": [
      "2\n",
      "3\n",
      "4\n"
     ]
    }
   ],
   "source": [
    "# Assing values to multiple variables\n",
    "x,y,z = 2,3,4\n",
    "print(x)\n",
    "print(y)\n",
    "print(z)"
   ]
  },
  {
   "cell_type": "code",
   "execution_count": 12,
   "id": "572fe1ce-3c60-4d72-81a2-6397b6017611",
   "metadata": {},
   "outputs": [
    {
     "name": "stdout",
     "output_type": "stream",
     "text": [
      "4\n",
      "4\n",
      "4\n"
     ]
    }
   ],
   "source": [
    "# assigning one value to multiple variables \n",
    "#Simultaneous assignment\n",
    "x = y = z = 4\n",
    "print(x)\n",
    "print(y)\n",
    "print(z)"
   ]
  },
  {
   "cell_type": "code",
   "execution_count": 17,
   "id": "3887344c-0a06-4c22-acc3-ddcea5f4e49b",
   "metadata": {},
   "outputs": [
    {
     "name": "stdout",
     "output_type": "stream",
     "text": [
      "orange\n",
      "blue\n",
      "black\n"
     ]
    }
   ],
   "source": [
    "#unpacking a collection\n",
    "my_list = [\"orange\", \"blue\", \"black\"]\n",
    "x, y, z = my_list\n",
    "print(x)\n",
    "\n",
    "print(y)\n",
    "\n",
    "print(z)"
   ]
  },
  {
   "cell_type": "code",
   "execution_count": 20,
   "id": "0e61d6ca-028e-4d82-a2e4-0b0379ac3b03",
   "metadata": {},
   "outputs": [
    {
     "name": "stdout",
     "output_type": "stream",
     "text": [
      "python is fun\n"
     ]
    }
   ],
   "source": [
    "# output variables\n",
    "\n",
    "x = \"python is fun\"\n",
    "\n",
    "print(x)"
   ]
  },
  {
   "cell_type": "code",
   "execution_count": 22,
   "id": "938287b2-58ef-46be-ac96-653a9479c4e7",
   "metadata": {},
   "outputs": [
    {
     "name": "stdout",
     "output_type": "stream",
     "text": [
      "python is fun\n"
     ]
    }
   ],
   "source": [
    "x = \"python\"\n",
    "y = \"is\"\n",
    "z = \"fun\"\n",
    "print(x,y,z)"
   ]
  },
  {
   "cell_type": "code",
   "execution_count": 23,
   "id": "f6b6becc-68ad-4390-99ca-84d0a560af4e",
   "metadata": {},
   "outputs": [
    {
     "name": "stdout",
     "output_type": "stream",
     "text": [
      "pythonisfun\n"
     ]
    }
   ],
   "source": [
    "# using the + operator to form sentence without a space charcters after is and python\n",
    "x = \"python\"\n",
    "y = \"is\"\n",
    "z = \"fun\"\n",
    "print(x+y+z)"
   ]
  },
  {
   "cell_type": "code",
   "execution_count": 24,
   "id": "b09b80fd-b3d9-4e39-90d9-6755155962eb",
   "metadata": {},
   "outputs": [
    {
     "name": "stdout",
     "output_type": "stream",
     "text": [
      "python  is  fun\n"
     ]
    }
   ],
   "source": [
    "# using the + operator to form sentence with a space charcters after is and python\n",
    "x = \"python \"\n",
    "y = \"is \"\n",
    "z = \"fun\"\n",
    "print(x,y,z)"
   ]
  },
  {
   "cell_type": "code",
   "execution_count": 27,
   "id": "436fba89-b960-418e-ba97-a3382a702659",
   "metadata": {},
   "outputs": [
    {
     "name": "stdout",
     "output_type": "stream",
     "text": [
      "2.0\n",
      "(2+0j)\n",
      "2\n"
     ]
    }
   ],
   "source": [
    "#type conversion\n",
    "x = 2\n",
    "y = 2.444\n",
    "z = 23j\n",
    "#\n",
    "a = float(x)\n",
    "b = int(y)\n",
    "c = complex(x)\n",
    "\n",
    "print(a)\n",
    "\n",
    "print(c)\n",
    "\n",
    "print(b)\n",
    "\n"
   ]
  },
  {
   "cell_type": "code",
   "execution_count": 6,
   "id": "4409c799-5d9c-48f1-93d9-ead690c96297",
   "metadata": {},
   "outputs": [
    {
     "name": "stdout",
     "output_type": "stream",
     "text": [
      "l am John,l am 34 years\n"
     ]
    }
   ],
   "source": [
    "#format strings\n",
    "age = 34\n",
    "x = f\"l am John,l am {age} years\"\n",
    "print(x)\n"
   ]
  },
  {
   "cell_type": "code",
   "execution_count": 8,
   "id": "b25828a4-e30a-4d16-b0fe-485a6ba4d405",
   "metadata": {},
   "outputs": [
    {
     "name": "stdout",
     "output_type": "stream",
     "text": [
      "True\n",
      "True\n",
      "False\n"
     ]
    }
   ],
   "source": [
    "#Booleans represent one of two values: True or False\n",
    "print(10 > 2)\n",
    "print(10 == 10)\n",
    "print(2 > 7)"
   ]
  },
  {
   "cell_type": "code",
   "execution_count": null,
   "id": "f97e3f06-3340-40e3-becb-bc48c31a031a",
   "metadata": {},
   "outputs": [],
   "source": []
  },
  {
   "cell_type": "code",
   "execution_count": null,
   "id": "2d411998-571a-469e-a524-717da06b4a8a",
   "metadata": {},
   "outputs": [],
   "source": [
    "#PYTHON LISTS  Lists are used to store multiple items in a single variable.\n",
    "\n"
   ]
  },
  {
   "cell_type": "code",
   "execution_count": null,
   "id": "0b958ca1-9557-4023-9218-3a712fd4ab0d",
   "metadata": {},
   "outputs": [],
   "source": []
  },
  {
   "cell_type": "code",
   "execution_count": 10,
   "id": "b1262fdc-f588-468d-b562-9fc55d79044d",
   "metadata": {},
   "outputs": [
    {
     "name": "stdout",
     "output_type": "stream",
     "text": [
      "34.760000000000005\n"
     ]
    }
   ],
   "source": [
    "width = 4.4\n",
    "height = 7.9\n",
    "area = width * height\n",
    "print (area)"
   ]
  },
  {
   "cell_type": "code",
   "execution_count": 15,
   "id": "5930335f-9261-41e9-8d68-2414d58cab76",
   "metadata": {},
   "outputs": [
    {
     "name": "stdout",
     "output_type": "stream",
     "text": [
      "the value of kilometres is 160.9\n"
     ]
    }
   ],
   "source": [
    "# SOLVING PROBLEMS\n",
    "miles = 100\n",
    "kilometres = miles * 1.609\n",
    "print (\"the value of kilometres is\", kilometres)"
   ]
  },
  {
   "cell_type": "code",
   "execution_count": 16,
   "id": "1a66528f-fcff-4e4d-a475-16476483de5a",
   "metadata": {},
   "outputs": [
    {
     "name": "stdin",
     "output_type": "stream",
     "text": [
      "the width is: 23\n",
      "the height is: 24\n"
     ]
    },
    {
     "name": "stdout",
     "output_type": "stream",
     "text": [
      "the area is: 552\n"
     ]
    }
   ],
   "source": [
    "# the program to accept input from the user\n",
    "#prompt the user to enter the width and height\n",
    "width = eval(input(\"the width is:\"))\n",
    "height = eval(input(\"the height is:\"))\n",
    "area = width * height \n",
    "print(\"the area is:\",area)\n"
   ]
  },
  {
   "cell_type": "code",
   "execution_count": 19,
   "id": "dda767e4-47f6-4af6-b01d-d99a79b80e95",
   "metadata": {},
   "outputs": [
    {
     "name": "stdin",
     "output_type": "stream",
     "text": [
      "number1 2\n",
      "number2 3\n",
      "number3 4\n",
      "number4 5\n"
     ]
    },
    {
     "name": "stdout",
     "output_type": "stream",
     "text": [
      "the average of four numbers is: 3.5\n"
     ]
    }
   ],
   "source": [
    "#computing the average by prompting the user to enter input\n",
    "number1 = eval(input(\"number1\"))\n",
    "number2 = eval(input(\"number2\"))\n",
    "number3 = eval(input(\"number3\"))\n",
    "number4 = eval(input(\"number4\"))\n",
    "\n",
    "average = (number1 + number2 + number3 + number4)/4\n",
    "print ( \"the average of four numbers is:\", average)"
   ]
  },
  {
   "cell_type": "code",
   "execution_count": 12,
   "id": "4bf9af01-24e4-46c8-acfb-22e20c6072d6",
   "metadata": {},
   "outputs": [
    {
     "name": "stdout",
     "output_type": "stream",
     "text": [
      "a is: 3\n",
      "b is: 2\n"
     ]
    }
   ],
   "source": [
    "#Swapping of values\n",
    "a = 2\n",
    "b = 3\n",
    "a,b = b,a\n",
    "print(\"a is:\",a)\n",
    "print(\"b is:\",b)"
   ]
  },
  {
   "cell_type": "code",
   "execution_count": null,
   "id": "1cacde1f-41b5-46a1-acf9-e940dee46b17",
   "metadata": {},
   "outputs": [],
   "source": [
    "# Prompting a user to enter integer values float values cant be accepted\n"
   ]
  },
  {
   "cell_type": "code",
   "execution_count": 4,
   "id": "2c5c0fff-b592-4b41-8f59-07bf12d817c9",
   "metadata": {},
   "outputs": [
    {
     "name": "stdin",
     "output_type": "stream",
     "text": [
      "enter the numbers: 1,2,3\n"
     ]
    },
    {
     "name": "stdout",
     "output_type": "stream",
     "text": [
      "the average of three numbers is: 2.0\n"
     ]
    }
   ],
   "source": [
    "#simutaneous assignment while prompting the user to enter the input,  enter input in one line\n",
    "num1, num2 ,num3 = eval(input(\"enter the numbers:\"))\n",
    "average = (num1 + num2 + num3)/3\n",
    "print(\"the average of three numbers is:\", average)\n",
    "\n",
    "                              "
   ]
  },
  {
   "cell_type": "code",
   "execution_count": 18,
   "id": "7b22b83f-58da-4035-96cc-92766eddd935",
   "metadata": {},
   "outputs": [
    {
     "name": "stdout",
     "output_type": "stream",
     "text": [
      "2\n",
      "34.0\n",
      "(34+0j)\n",
      "True\n"
     ]
    }
   ],
   "source": [
    "#type conversion\n",
    "y = 2.4 \n",
    "print(int(y))\n",
    "\n",
    "x = 34\n",
    "print(float(x))\n",
    "\n",
    "x = 34\n",
    "print(complex(x))\n",
    "\n",
    "x = 34\n",
    "print(bool(x))"
   ]
  },
  {
   "cell_type": "code",
   "execution_count": 2,
   "id": "f9c39ba9-f265-494f-879f-6261179a638c",
   "metadata": {},
   "outputs": [
    {
     "name": "stdin",
     "output_type": "stream",
     "text": [
      "the width is: 45\n",
      "the height is: 45\n"
     ]
    },
    {
     "name": "stdout",
     "output_type": "stream",
     "text": [
      "the area is: 2025\n"
     ]
    }
   ],
   "source": [
    "width = eval(input(\"the width is:\"))\n",
    "             \n",
    "height = eval(input(\"the height is:\"))\n",
    "area = width * height \n",
    "print(\"the area is:\",area)"
   ]
  },
  {
   "cell_type": "code",
   "execution_count": 4,
   "id": "4f4deca8-ddac-4e0b-bc56-08fe3a4e1a61",
   "metadata": {},
   "outputs": [
    {
     "name": "stdout",
     "output_type": "stream",
     "text": [
      "23\n"
     ]
    }
   ],
   "source": [
    "#int function\n",
    "value = 23.45\n",
    "value = int(value)\n",
    "print(value)"
   ]
  },
  {
   "cell_type": "code",
   "execution_count": 9,
   "id": "78eb0879-40e0-4ef5-ad79-ae579576f7f5",
   "metadata": {},
   "outputs": [
    {
     "name": "stdin",
     "output_type": "stream",
     "text": [
      "Enter the celcius degree: 45\n"
     ]
    },
    {
     "name": "stdout",
     "output_type": "stream",
     "text": [
      "Degrees in farenhiet is:  113\n"
     ]
    }
   ],
   "source": [
    "celcius = eval(input(\"Enter the celcius degree:\"))\n",
    "               \n",
    "farenhiet = (9 / 5) * celcius + 32\n",
    "#display an integer answer\n",
    "answer = int(farenhiet)\n",
    "print (\"Degrees in farenhiet is: \", answer)"
   ]
  },
  {
   "cell_type": "code",
   "execution_count": 1,
   "id": "de1b524e-2785-4bad-b29c-0842d416a4f3",
   "metadata": {},
   "outputs": [
    {
     "name": "stdout",
     "output_type": "stream",
     "text": [
      "1\n"
     ]
    }
   ],
   "source": [
    "radius = 1\n",
    "print(int(radius > 0))"
   ]
  },
  {
   "cell_type": "code",
   "execution_count": 7,
   "id": "3b66dad8-9be5-4968-9e02-b16943c3f370",
   "metadata": {},
   "outputs": [
    {
     "name": "stdout",
     "output_type": "stream",
     "text": [
      "True\n",
      "1\n",
      "False\n",
      "0\n"
     ]
    }
   ],
   "source": [
    "#true corresponds to 1\n",
    "#false corresponds to 0\n",
    "radius = 1\n",
    "print(radius > 0)\n",
    "\n",
    "radius = 1\n",
    "print(int(radius > 0))\n",
    "\n",
    "radius = 1\n",
    "print(radius < 0)\n",
    "\n",
    "radius = 1\n",
    "print(int(radius < 0))"
   ]
  },
  {
   "cell_type": "code",
   "execution_count": 8,
   "id": "6109e606-418c-4298-a8a5-5cce9a88d3f2",
   "metadata": {},
   "outputs": [
    {
     "data": {
      "text/plain": [
       "['cars', '1,2,3', 'books', 'crafts']"
      ]
     },
     "execution_count": 8,
     "metadata": {},
     "output_type": "execute_result"
    }
   ],
   "source": [
    "#LISTS\n",
    "mylist = [\"cars\",'1,2,3',\"books\",\"crafts\"]\n",
    "#calling the list\n",
    "mylist\n"
   ]
  },
  {
   "cell_type": "code",
   "execution_count": 7,
   "id": "07fc86e7-3ffd-4ba8-bc8e-c7cd232bb9d4",
   "metadata": {},
   "outputs": [
    {
     "data": {
      "text/plain": [
       "'books'"
      ]
     },
     "execution_count": 7,
     "metadata": {},
     "output_type": "execute_result"
    }
   ],
   "source": [
    "#indexing of lists\n",
    "mylist[0]\n",
    "mylist[1]"
   ]
  },
  {
   "cell_type": "code",
   "execution_count": 9,
   "id": "6ebcc7e2-8966-4f62-ab24-0be284be8ad5",
   "metadata": {},
   "outputs": [
    {
     "name": "stdout",
     "output_type": "stream",
     "text": [
      "4\n"
     ]
    }
   ],
   "source": [
    "#determing the length of the list use the len() function\n",
    "print(len(mylist))"
   ]
  },
  {
   "cell_type": "code",
   "execution_count": 14,
   "id": "1d146b23-94ac-4e75-a890-03af39d78414",
   "metadata": {},
   "outputs": [
    {
     "data": {
      "text/plain": [
       "['benz', 'mycar', 'taxi']"
      ]
     },
     "execution_count": 14,
     "metadata": {},
     "output_type": "execute_result"
    }
   ],
   "source": [
    "#list constructor: list()\n",
    "names = list(('benz','mycar','taxi'))\n",
    "names"
   ]
  },
  {
   "cell_type": "code",
   "execution_count": 22,
   "id": "b98a33a6-c15a-4184-9478-7ac629156d34",
   "metadata": {},
   "outputs": [
    {
     "name": "stdout",
     "output_type": "stream",
     "text": [
      "yes\n"
     ]
    }
   ],
   "source": [
    "#use of the in keyword\n",
    "mylist = [\"cars\",'1,2,3',\"books\",\"crafts\",\"apple\"]\n",
    "if \"apple\" in mylist:\n",
    "  print(\"yes\")"
   ]
  },
  {
   "cell_type": "code",
   "execution_count": 37,
   "id": "bcbb908c-91bc-4453-84b1-d00727bb275f",
   "metadata": {},
   "outputs": [
    {
     "data": {
      "text/plain": [
       "['cars', 'cows', 'books', 'crafts', 'apple']"
      ]
     },
     "execution_count": 37,
     "metadata": {},
     "output_type": "execute_result"
    }
   ],
   "source": [
    "#changing the a list item refer to the index number\n",
    "mylist = [\"cars\",'1,2,3',\"books\",\"crafts\",\"apple\"]\n",
    "mylist[1] = \"cows\"\n",
    "mylist"
   ]
  },
  {
   "cell_type": "code",
   "execution_count": 30,
   "id": "ec67f4f8-a6c4-42c2-875b-765dcc190f82",
   "metadata": {},
   "outputs": [
    {
     "data": {
      "text/plain": [
       "['cars', 'goats', 'hens', 'crafts', 'apple']"
      ]
     },
     "execution_count": 30,
     "metadata": {},
     "output_type": "execute_result"
    }
   ],
   "source": [
    "# changing a range of items\n",
    "mylist = [\"cars\",'1,2,3',\"books\",\"crafts\",\"apple\"]\n",
    "mylist[1:3] = [\"goats\",\"hens\"]\n",
    "mylist"
   ]
  },
  {
   "cell_type": "code",
   "execution_count": 38,
   "id": "b1f5d3f8-49e5-4ec7-8c11-b6d4295880a5",
   "metadata": {},
   "outputs": [
    {
     "data": {
      "text/plain": [
       "['cars', '1,2,3', 'books', 'crafts', 'water', 'apple']"
      ]
     },
     "execution_count": 38,
     "metadata": {},
     "output_type": "execute_result"
    }
   ],
   "source": [
    "# inserting an item without replacing it use the insert() method\n",
    "mylist = [\"cars\",'1,2,3',\"books\",\"crafts\",\"apple\"]\n",
    "mylist.insert(4,\"water\")\n",
    "mylist"
   ]
  },
  {
   "cell_type": "code",
   "execution_count": 41,
   "id": "46f3e5d8-6cd1-42f5-afce-0b890e687ed8",
   "metadata": {},
   "outputs": [
    {
     "data": {
      "text/plain": [
       "['cars', '1,2,3', 'books', 'crafts', 'apple', 'water']"
      ]
     },
     "execution_count": 41,
     "metadata": {},
     "output_type": "execute_result"
    }
   ],
   "source": [
    "#put water as the last item use the append method\n",
    "mylist = [\"cars\",'1,2,3',\"books\",\"crafts\",\"apple\"]\n",
    "mylist.append(\"water\")\n",
    "mylist"
   ]
  },
  {
   "cell_type": "code",
   "execution_count": 43,
   "id": "82c159d1-ef01-488b-85d3-5c6981af5802",
   "metadata": {},
   "outputs": [
    {
     "data": {
      "text/plain": [
       "['cars', '1,2,3', 'water', 'books', 'crafts', 'apple']"
      ]
     },
     "execution_count": 43,
     "metadata": {},
     "output_type": "execute_result"
    }
   ],
   "source": [
    "#put water between [1] and [2]\n",
    "mylist = [\"cars\",'1,2,3',\"books\",\"crafts\",\"apple\"]\n",
    "mylist.insert(2,\"water\")\n",
    "mylist"
   ]
  },
  {
   "cell_type": "code",
   "execution_count": 44,
   "id": "eb709e9c-d29d-49de-94f0-09973574ec48",
   "metadata": {},
   "outputs": [
    {
     "data": {
      "text/plain": [
       "['water', 'cars', '1,2,3', 'books', 'crafts', 'apple']"
      ]
     },
     "execution_count": 44,
     "metadata": {},
     "output_type": "execute_result"
    }
   ],
   "source": [
    "#put water as the first item in the list\n",
    "mylist = [\"cars\",'1,2,3',\"books\",\"crafts\",\"apple\"]\n",
    "mylist.insert(0,\"water\")\n",
    "mylist"
   ]
  },
  {
   "cell_type": "code",
   "execution_count": 45,
   "id": "88a08dd7-57d2-48e3-99ce-37c97d513d21",
   "metadata": {},
   "outputs": [
    {
     "data": {
      "text/plain": [
       "['cars', '1,2,3', 'books', 'crafts', 'apple', 'mango', 'apples', 'oranges']"
      ]
     },
     "execution_count": 45,
     "metadata": {},
     "output_type": "execute_result"
    }
   ],
   "source": [
    "#to put items from one list into another\n",
    "mylist = [\"cars\",'1,2,3',\"books\",\"crafts\",\"apple\"]\n",
    "add = [\"mango\", \"apples\",\"oranges\"]\n",
    "mylist.extend(add)\n",
    "mylist"
   ]
  },
  {
   "cell_type": "code",
   "execution_count": 48,
   "id": "488fc3eb-8dda-41d2-9a57-48cd88a9f7aa",
   "metadata": {},
   "outputs": [
    {
     "data": {
      "text/plain": [
       "['cars',\n",
       " '1,2,3',\n",
       " 'books',\n",
       " 'crafts',\n",
       " 'apple',\n",
       " 'mango',\n",
       " 'apples',\n",
       " 'oranges',\n",
       " 'cats',\n",
       " 'lions',\n",
       " 'elephants',\n",
       " 'cats',\n",
       " 'lions',\n",
       " 'elephants',\n",
       " 'cats',\n",
       " 'lions',\n",
       " 'elephants']"
      ]
     },
     "execution_count": 48,
     "metadata": {},
     "output_type": "execute_result"
    }
   ],
   "source": [
    "#add items in a tuple to a list\n",
    "mytuple = (\"cats\",\"lions\",\"elephants\")\n",
    "mylist.extend(mytuple)\n",
    "mylist"
   ]
  },
  {
   "cell_type": "code",
   "execution_count": 49,
   "id": "10667c30-1458-454c-9e44-72e39d785432",
   "metadata": {},
   "outputs": [
    {
     "data": {
      "text/plain": [
       "['mango', 'apples', 'oranges', 'cats', 'lions', 'elephants']"
      ]
     },
     "execution_count": 49,
     "metadata": {},
     "output_type": "execute_result"
    }
   ],
   "source": [
    "add = [\"mango\", \"apples\",\"oranges\"]\n",
    "add.extend(mytuple)\n",
    "add"
   ]
  },
  {
   "cell_type": "code",
   "execution_count": 50,
   "id": "8dc10cf3-4a89-42ea-a73a-92017061368a",
   "metadata": {},
   "outputs": [
    {
     "data": {
      "text/plain": [
       "['apples', 'oranges']"
      ]
     },
     "execution_count": 50,
     "metadata": {},
     "output_type": "execute_result"
    }
   ],
   "source": [
    "#removing items from a list\n",
    "add = [\"mango\", \"apples\",\"oranges\"]\n",
    "add.remove(\"mango\")\n",
    "add"
   ]
  },
  {
   "cell_type": "code",
   "execution_count": 5,
   "id": "61e2edb9-c5cd-4757-9eca-93976d483a11",
   "metadata": {},
   "outputs": [
    {
     "data": {
      "text/plain": [
       "['mango', 'apples', 'oranges']"
      ]
     },
     "execution_count": 5,
     "metadata": {},
     "output_type": "execute_result"
    }
   ],
   "source": [
    "#removing specific items using the index use the pop() method\n",
    "add = [\"mango\", \"apples\",\"oranges\",\"mango\"]\n",
    "add.pop(3)\n",
    "add"
   ]
  },
  {
   "cell_type": "code",
   "execution_count": 4,
   "id": "04a0768d-889e-46ce-9508-4a0db5150db9",
   "metadata": {},
   "outputs": [
    {
     "data": {
      "text/plain": [
       "['apples', 'oranges', 'mango']"
      ]
     },
     "execution_count": 4,
     "metadata": {},
     "output_type": "execute_result"
    }
   ],
   "source": [
    "add = [\"mango\", \"apples\",\"oranges\",\"mango\"]\n",
    "add.remove(\"mango\")\n",
    "add"
   ]
  },
  {
   "cell_type": "code",
   "execution_count": 6,
   "id": "cb55392d-acc7-4d1a-b641-8dadfc4861ea",
   "metadata": {},
   "outputs": [
    {
     "data": {
      "text/plain": [
       "['mango', 'apples', 'oranges']"
      ]
     },
     "execution_count": 6,
     "metadata": {},
     "output_type": "execute_result"
    }
   ],
   "source": [
    "#if you dont specify any index the pop() method removes the last item\n",
    "add = [\"mango\", \"apples\",\"oranges\",\"mango\"]\n",
    "add.pop()\n",
    "add"
   ]
  },
  {
   "cell_type": "code",
   "execution_count": 13,
   "id": "594e811a-a69d-4b7e-adf3-f359d2e965b7",
   "metadata": {},
   "outputs": [
    {
     "data": {
      "text/plain": [
       "['apples', 'oranges', 'mango']"
      ]
     },
     "execution_count": 13,
     "metadata": {},
     "output_type": "execute_result"
    }
   ],
   "source": [
    "#the use of the del keyword with an index\n",
    "add = [\"mango\", \"apples\",\"oranges\",\"mango\"]\n",
    "del add[0]\n",
    "add"
   ]
  },
  {
   "cell_type": "code",
   "execution_count": 18,
   "id": "69c8929e-8f38-497b-b535-23c9ae7f8970",
   "metadata": {},
   "outputs": [
    {
     "ename": "NameError",
     "evalue": "name 'add' is not defined",
     "output_type": "error",
     "traceback": [
      "\u001b[1;31m---------------------------------------------------------------------------\u001b[0m",
      "\u001b[1;31mNameError\u001b[0m                                 Traceback (most recent call last)",
      "Cell \u001b[1;32mIn[18], line 5\u001b[0m\n\u001b[0;32m      3\u001b[0m add \u001b[38;5;241m=\u001b[39m [\u001b[38;5;124m\"\u001b[39m\u001b[38;5;124mmango\u001b[39m\u001b[38;5;124m\"\u001b[39m, \u001b[38;5;124m\"\u001b[39m\u001b[38;5;124mapples\u001b[39m\u001b[38;5;124m\"\u001b[39m,\u001b[38;5;124m\"\u001b[39m\u001b[38;5;124moranges\u001b[39m\u001b[38;5;124m\"\u001b[39m,\u001b[38;5;124m\"\u001b[39m\u001b[38;5;124mmango\u001b[39m\u001b[38;5;124m\"\u001b[39m]\n\u001b[0;32m      4\u001b[0m \u001b[38;5;28;01mdel\u001b[39;00m add\n\u001b[1;32m----> 5\u001b[0m \u001b[38;5;28mprint\u001b[39m(\u001b[43madd\u001b[49m)\n",
      "\u001b[1;31mNameError\u001b[0m: name 'add' is not defined"
     ]
    }
   ],
   "source": [
    "#without the index the del deletes the whole list\n",
    "\n",
    "add = [\"mango\", \"apples\",\"oranges\",\"mango\"]\n",
    "del add\n",
    "print(add)"
   ]
  },
  {
   "cell_type": "code",
   "execution_count": 19,
   "id": "8d8588dd-68aa-407c-ac6b-e4c6e43559d5",
   "metadata": {},
   "outputs": [
    {
     "data": {
      "text/plain": [
       "[]"
      ]
     },
     "execution_count": 19,
     "metadata": {},
     "output_type": "execute_result"
    }
   ],
   "source": [
    "#the use of the clear function it empties the list\n",
    "\n",
    "add = [\"mango\", \"apples\",\"oranges\",\"mango\"]\n",
    "add.clear()\n",
    "add"
   ]
  },
  {
   "cell_type": "code",
   "execution_count": 22,
   "id": "29c917a0-36ee-42ea-8e39-06b8e3195d96",
   "metadata": {},
   "outputs": [
    {
     "name": "stdout",
     "output_type": "stream",
     "text": [
      "mango\n",
      "apples\n",
      "oranges\n",
      "mango\n"
     ]
    }
   ],
   "source": [
    "#loop through a list outputs an item one by one\n",
    "\n",
    "# for loop\n",
    "add = [\"mango\", \"apples\",\"oranges\",\"mango\"]\n",
    "for x in add:\n",
    "   print(x)"
   ]
  },
  {
   "cell_type": "code",
   "execution_count": 24,
   "id": "3178ff37-9db6-4ce5-83a3-cddc5ebbc31a",
   "metadata": {},
   "outputs": [
    {
     "name": "stdout",
     "output_type": "stream",
     "text": [
      "mango\n",
      "apples\n",
      "oranges\n",
      "mango\n"
     ]
    }
   ],
   "source": [
    "# loop through an index number using the range and length methods\n",
    "add = [\"mango\", \"apples\",\"oranges\",\"mango\"]\n",
    "for x in range(len(add)):\n",
    "   print(add[x])"
   ]
  },
  {
   "cell_type": "code",
   "execution_count": 1,
   "id": "3e2978c3-79be-41b8-8548-31219a9febfe",
   "metadata": {},
   "outputs": [
    {
     "name": "stdout",
     "output_type": "stream",
     "text": [
      "mango\n",
      "apples\n",
      "oranges\n",
      "mango\n"
     ]
    }
   ],
   "source": [
    "# while loop\n",
    "add = [\"mango\", \"apples\",\"oranges\",\"mango\"]\n",
    "x = 0\n",
    "while x < len(add):\n",
    "  print(add[x])\n",
    "  x = x + 1"
   ]
  },
  {
   "cell_type": "code",
   "execution_count": 8,
   "id": "f2fa5f05-805a-4bf7-9b5b-71adaf7042d8",
   "metadata": {},
   "outputs": [
    {
     "data": {
      "text/plain": [
       "['apples', 'mango', 'mango', 'oranges']"
      ]
     },
     "execution_count": 8,
     "metadata": {},
     "output_type": "execute_result"
    }
   ],
   "source": [
    "#sorting lists alphabetically\n",
    "#use the sort method\n",
    "add = [\"mango\", \"apples\",\"oranges\",\"mango\"]\n",
    "add.sort()\n",
    "add\n",
    "\n"
   ]
  },
  {
   "cell_type": "code",
   "execution_count": 7,
   "id": "e992b302-1f95-4abc-afa3-3de1fd647abd",
   "metadata": {},
   "outputs": [
    {
     "data": {
      "text/plain": [
       "[1, 2, 3, 4, 5, 6, 7, 8, 10, 11]"
      ]
     },
     "execution_count": 7,
     "metadata": {},
     "output_type": "execute_result"
    }
   ],
   "source": [
    "#sorting numerically\n",
    "mylist = [1,3,4,6,7,2,5,8,11,10]\n",
    "mylist.sort()\n",
    "mylist"
   ]
  },
  {
   "cell_type": "code",
   "execution_count": 10,
   "id": "2475b4ba-040d-43b1-a0a2-a521d21d4d36",
   "metadata": {},
   "outputs": [
    {
     "data": {
      "text/plain": [
       "[11, 10, 8, 7, 6, 5, 4, 3, 2, 1]"
      ]
     },
     "execution_count": 10,
     "metadata": {},
     "output_type": "execute_result"
    }
   ],
   "source": [
    "#Sorting Descending use the reverse = true keyword\n",
    "mylist = [1,3,4,6,7,2,5,8,11,10]\n",
    "mylist.sort(reverse = True)\n",
    "mylist"
   ]
  },
  {
   "cell_type": "code",
   "execution_count": 11,
   "id": "b8e5968e-0cc5-4b67-bab3-eba31ea88aa1",
   "metadata": {},
   "outputs": [
    {
     "data": {
      "text/plain": [
       "['mango', 'apples', 'oranges', 'mango']"
      ]
     },
     "execution_count": 11,
     "metadata": {},
     "output_type": "execute_result"
    }
   ],
   "source": [
    "#copy a list into another list using the copy and list methods\n",
    "add = [\"mango\", \"apples\",\"oranges\",\"mango\"]\n",
    "mylist = add.copy()\n",
    "mylist\n"
   ]
  },
  {
   "cell_type": "code",
   "execution_count": 14,
   "id": "08104ab5-683f-4aa4-a034-9ebb9c72c18d",
   "metadata": {},
   "outputs": [
    {
     "data": {
      "text/plain": [
       "['mango', 'apples', 'oranges', 'mango']"
      ]
     },
     "execution_count": 14,
     "metadata": {},
     "output_type": "execute_result"
    }
   ],
   "source": [
    "add = [\"mango\", \"apples\",\"oranges\",\"mango\"]\n",
    "mylist = list(add)\n",
    "mylist\n",
    "\n"
   ]
  },
  {
   "cell_type": "code",
   "execution_count": 15,
   "id": "1209f41d-f32c-44de-a33d-c2841715bf85",
   "metadata": {},
   "outputs": [
    {
     "data": {
      "text/plain": [
       "['mango', 'apples', 'oranges', 'mango', 1, 3, 4, 6, 7, 2, 5, 8, 11, 10]"
      ]
     },
     "execution_count": 15,
     "metadata": {},
     "output_type": "execute_result"
    }
   ],
   "source": [
    "#joining lists using a + operator\n",
    "\n",
    "add = [\"mango\", \"apples\",\"oranges\",\"mango\"]\n",
    "mylist = [1,3,4,6,7,2,5,8,11,10]\n",
    "list1 = add + mylist\n",
    "list1\n"
   ]
  },
  {
   "cell_type": "code",
   "execution_count": 7,
   "id": "4dcde9fb-4135-493a-bed2-2fd941970dfc",
   "metadata": {},
   "outputs": [
    {
     "name": "stdout",
     "output_type": "stream",
     "text": [
      "['mango', 'apples', 'oranges', 'mango', 1, 3, 4, 6, 7, 2, 5, 8, 11, 10]\n"
     ]
    }
   ],
   "source": [
    "#joining of lists using the append method\n",
    "add = [\"mango\", \"apples\",\"oranges\",\"mango\"]\n",
    "mylist = [1,3,4,6,7,2,5,8,11,10]\n",
    "for x in mylist:\n",
    "    add.append(x)\n",
    "print(add)\n",
    "    "
   ]
  },
  {
   "cell_type": "code",
   "execution_count": 8,
   "id": "877d1673-7a96-44c1-ba2f-933292a6f5e5",
   "metadata": {},
   "outputs": [
    {
     "name": "stdout",
     "output_type": "stream",
     "text": [
      "['a', 'b', 'c', 1, 2, 3]\n"
     ]
    }
   ],
   "source": [
    "list1 = [\"a\", \"b\" , \"c\"]\n",
    "list2 = [1, 2, 3]\n",
    "\n",
    "for x in list2:\n",
    "  list1.append(x)\n",
    "\n",
    "print(list1)"
   ]
  },
  {
   "cell_type": "code",
   "execution_count": 9,
   "id": "96c12f9f-d2ee-44c4-96c4-57fd8e2c674a",
   "metadata": {},
   "outputs": [
    {
     "data": {
      "text/plain": [
       "['a', 'b', 'c', 1, 2, 3]"
      ]
     },
     "execution_count": 9,
     "metadata": {},
     "output_type": "execute_result"
    }
   ],
   "source": [
    "#putting items from one list into another list\n",
    "list1 = [\"a\", \"b\" , \"c\"]\n",
    "list2 = [1, 2, 3]\n",
    "list1.extend(list2)\n",
    "list1\n"
   ]
  },
  {
   "cell_type": "code",
   "execution_count": 10,
   "id": "9813fe6f-821b-4dd0-aa51-35151f6d48ef",
   "metadata": {},
   "outputs": [
    {
     "name": "stdout",
     "output_type": "stream",
     "text": [
      "3\n"
     ]
    }
   ],
   "source": [
    "#length of a list\n",
    "list1 = [\"a\", \"b\" , \"c\"]\n",
    "print(len(list1))"
   ]
  },
  {
   "cell_type": "code",
   "execution_count": 11,
   "id": "ca10c333-0d62-4148-9f72-35f1dc973e9c",
   "metadata": {},
   "outputs": [
    {
     "data": {
      "text/plain": [
       "('a', 'b', 'c')"
      ]
     },
     "execution_count": 11,
     "metadata": {},
     "output_type": "execute_result"
    }
   ],
   "source": [
    "#TUPLES: Tuples are used to store multiple items in a single variable\n",
    "# Tuples are written with round brackets\n",
    "#CREATION OF A TUPLE\n",
    "mytuple = (\"a\", \"b\" , \"c\")\n",
    "mytuple"
   ]
  },
  {
   "cell_type": "code",
   "execution_count": 12,
   "id": "6b13be79-2175-45b5-8b5f-2bde64ca9d74",
   "metadata": {},
   "outputs": [
    {
     "name": "stdout",
     "output_type": "stream",
     "text": [
      "3\n"
     ]
    }
   ],
   "source": [
    "#determimg the number of items in a tuple\n",
    "mytuple = (\"a\", \"b\" , \"c\")\n",
    "print(len(mytuple))"
   ]
  },
  {
   "cell_type": "code",
   "execution_count": 17,
   "id": "b2c6c6b4-7835-4009-8c15-90f74b0621fa",
   "metadata": {},
   "outputs": [
    {
     "name": "stdout",
     "output_type": "stream",
     "text": [
      "<class 'tuple'>\n"
     ]
    }
   ],
   "source": [
    "#Creation of a tuple with only one item add a comma at the end\n",
    "mytuple = (\"a\",)\n",
    "mytuple\n",
    "print(type(mytuple))"
   ]
  },
  {
   "cell_type": "code",
   "execution_count": 16,
   "id": "6d5a0cc4-eeea-41ef-9209-5827fffdc858",
   "metadata": {},
   "outputs": [
    {
     "name": "stdout",
     "output_type": "stream",
     "text": [
      "<class 'str'>\n"
     ]
    }
   ],
   "source": [
    "#this is not recognized as a tuple\n",
    "mytuple = (\"a\")\n",
    "\n",
    "print(type(mytuple))"
   ]
  },
  {
   "cell_type": "code",
   "execution_count": 21,
   "id": "f85da40a-a833-4249-a72e-3ac4084c0edf",
   "metadata": {},
   "outputs": [
    {
     "data": {
      "text/plain": [
       "('a', 'b', 'c')"
      ]
     },
     "execution_count": 21,
     "metadata": {},
     "output_type": "execute_result"
    }
   ],
   "source": [
    "#TUPLES CAN CONTAIN DIFFERENT DATA TYPES\n",
    "mytuple = (\"a\", \"b\" , \"c\")\n",
    "tuple1 = (2,3,4)\n",
    "tuple2 = (True,False)\n",
    "mytuple\n",
    "#tuple1\n",
    "#tuple2"
   ]
  },
  {
   "cell_type": "code",
   "execution_count": 29,
   "id": "e103567e-dcd0-4b24-a39e-0c4af9694a3b",
   "metadata": {},
   "outputs": [
    {
     "name": "stdout",
     "output_type": "stream",
     "text": [
      "('a', 'b', 'c')\n"
     ]
    }
   ],
   "source": [
    "#TUPLE CONSTRUCTORS\n",
    "tuple1 = tuple((\"a\", \"b\" , \"c\"))\n",
    "print(tuple1)\n"
   ]
  },
  {
   "cell_type": "code",
   "execution_count": 30,
   "id": "b4e5310f-7a70-42e5-b872-6dc59e89e4c4",
   "metadata": {},
   "outputs": [
    {
     "name": "stdout",
     "output_type": "stream",
     "text": [
      "a\n"
     ]
    }
   ],
   "source": [
    "#ACCESSING THE TUPLE ITEMS\n",
    "mytuple = (\"a\", \"b\" , \"c\")\n",
    "print(mytuple[0])"
   ]
  },
  {
   "cell_type": "code",
   "execution_count": 32,
   "id": "8d334d93-0a49-45dc-819f-c0370e0a03a8",
   "metadata": {},
   "outputs": [
    {
     "name": "stdout",
     "output_type": "stream",
     "text": [
      "c\n"
     ]
    }
   ],
   "source": [
    "mytuple = (\"a\", \"b\" , \"c\")\n",
    "print(mytuple[2])"
   ]
  },
  {
   "cell_type": "code",
   "execution_count": 38,
   "id": "c90118b5-0339-44e3-a03f-737b58b809f1",
   "metadata": {},
   "outputs": [
    {
     "ename": "TypeError",
     "evalue": "'tuple' object does not support item assignment",
     "output_type": "error",
     "traceback": [
      "\u001b[1;31m---------------------------------------------------------------------------\u001b[0m",
      "\u001b[1;31mTypeError\u001b[0m                                 Traceback (most recent call last)",
      "Cell \u001b[1;32mIn[38], line 3\u001b[0m\n\u001b[0;32m      1\u001b[0m \u001b[38;5;66;03m# Update Tuples\u001b[39;00m\n\u001b[0;32m      2\u001b[0m mytuple \u001b[38;5;241m=\u001b[39m (\u001b[38;5;124m\"\u001b[39m\u001b[38;5;124ma\u001b[39m\u001b[38;5;124m\"\u001b[39m, \u001b[38;5;124m\"\u001b[39m\u001b[38;5;124mb\u001b[39m\u001b[38;5;124m\"\u001b[39m , \u001b[38;5;124m\"\u001b[39m\u001b[38;5;124mc\u001b[39m\u001b[38;5;124m\"\u001b[39m)\n\u001b[1;32m----> 3\u001b[0m \u001b[43mmytuple\u001b[49m\u001b[43m[\u001b[49m\u001b[38;5;241;43m1\u001b[39;49m\u001b[43m]\u001b[49m \u001b[38;5;241m=\u001b[39m \u001b[38;5;124m\"\u001b[39m\u001b[38;5;124md\u001b[39m\u001b[38;5;124m\"\u001b[39m\n\u001b[0;32m      4\u001b[0m mytuple\n",
      "\u001b[1;31mTypeError\u001b[0m: 'tuple' object does not support item assignment"
     ]
    }
   ],
   "source": [
    "# Update Tuples\n",
    "mytuple = (\"a\", \"b\" , \"c\")\n",
    "mytuple[1] = \"d\"\n",
    "mytuple"
   ]
  },
  {
   "cell_type": "code",
   "execution_count": 40,
   "id": "10066378-2a5d-43bf-9ea9-254a0b3d3364",
   "metadata": {},
   "outputs": [
    {
     "data": {
      "text/plain": [
       "('a', 'd', 'c')"
      ]
     },
     "execution_count": 40,
     "metadata": {},
     "output_type": "execute_result"
    }
   ],
   "source": [
    "# Update Tuples first convert it into a list\n",
    "mytuple = (\"a\", \"b\" , \"c\")\n",
    "mylist = list(mytuple)\n",
    "mylist[1] = \"d\"\n",
    "mytuple = tuple(mylist)\n",
    "mytuple\n"
   ]
  },
  {
   "cell_type": "code",
   "execution_count": 43,
   "id": "08d038ea-d8ee-4512-9fe9-1f3c69eb15fd",
   "metadata": {},
   "outputs": [
    {
     "data": {
      "text/plain": [
       "('a', 'b', 'c', 'q')"
      ]
     },
     "execution_count": 43,
     "metadata": {},
     "output_type": "execute_result"
    }
   ],
   "source": [
    "#adding an item into a tuple\n",
    "mytuple = (\"a\", \"b\" , \"c\")\n",
    "mylist = list(mytuple)\n",
    "mylist.append(\"q\")\n",
    "mytuple = tuple(mylist)\n",
    "mytuple"
   ]
  },
  {
   "cell_type": "code",
   "execution_count": 44,
   "id": "b11e129a-5fed-4283-8238-d16c2b1fd28c",
   "metadata": {},
   "outputs": [
    {
     "data": {
      "text/plain": [
       "('q', 'a', 'b', 'c')"
      ]
     },
     "execution_count": 44,
     "metadata": {},
     "output_type": "execute_result"
    }
   ],
   "source": [
    "mytuple = (\"a\", \"b\" , \"c\")\n",
    "mylist = list(mytuple)\n",
    "mylist.insert(0,\"q\")\n",
    "mytuple = tuple(mylist)\n",
    "mytuple"
   ]
  },
  {
   "cell_type": "code",
   "execution_count": 47,
   "id": "0fa4cad8-686d-4d2e-8d34-c84413b6329c",
   "metadata": {},
   "outputs": [
    {
     "data": {
      "text/plain": [
       "('a', 'q', 'b', 'c')"
      ]
     },
     "execution_count": 47,
     "metadata": {},
     "output_type": "execute_result"
    }
   ],
   "source": [
    "mytuple = (\"a\", \"b\" , \"c\")\n",
    "mylist = list(mytuple)\n",
    "mylist.insert(1,\"q\")\n",
    "mytuple = tuple(mylist)\n",
    "mytuple"
   ]
  },
  {
   "cell_type": "code",
   "execution_count": null,
   "id": "81836f2e-3100-46da-974f-d91382576b34",
   "metadata": {},
   "outputs": [],
   "source": []
  }
 ],
 "metadata": {
  "kernelspec": {
   "display_name": "Python 3 (ipykernel)",
   "language": "python",
   "name": "python3"
  },
  "language_info": {
   "codemirror_mode": {
    "name": "ipython",
    "version": 3
   },
   "file_extension": ".py",
   "mimetype": "text/x-python",
   "name": "python",
   "nbconvert_exporter": "python",
   "pygments_lexer": "ipython3",
   "version": "3.12.4"
  }
 },
 "nbformat": 4,
 "nbformat_minor": 5
}
