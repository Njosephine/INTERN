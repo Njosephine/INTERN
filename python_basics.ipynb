{
 "cells": [
  {
   "cell_type": "code",
   "execution_count": 1,
   "id": "23ce614b-40f3-481c-a852-3faa39450f47",
   "metadata": {},
   "outputs": [
    {
     "name": "stdout",
     "output_type": "stream",
     "text": [
      "elt\n"
     ]
    }
   ],
   "source": [
    "\n",
    "str =\"hellothere , am happy\"\n",
    "substr = str[1:6:2]\n",
    "print(substr)"
   ]
  },
  {
   "cell_type": "code",
   "execution_count": 1,
   "id": "bf68f18f-82f8-4b06-befe-b46e5cccf3a6",
   "metadata": {},
   "outputs": [
    {
     "name": "stdout",
     "output_type": "stream",
     "text": [
      "Requirement already satisfied: numpy in c:\\users\\jose\\appdata\\local\\programs\\python\\python312\\lib\\site-packages (1.26.4)\n",
      "Requirement already satisfied: pandas in c:\\users\\jose\\appdata\\local\\programs\\python\\python312\\lib\\site-packages (2.2.2)\n",
      "Requirement already satisfied: numpy>=1.26.0 in c:\\users\\jose\\appdata\\local\\programs\\python\\python312\\lib\\site-packages (from pandas) (1.26.4)\n",
      "Requirement already satisfied: python-dateutil>=2.8.2 in c:\\users\\jose\\appdata\\local\\programs\\python\\python312\\lib\\site-packages (from pandas) (2.9.0.post0)\n",
      "Requirement already satisfied: pytz>=2020.1 in c:\\users\\jose\\appdata\\local\\programs\\python\\python312\\lib\\site-packages (from pandas) (2024.1)\n",
      "Requirement already satisfied: tzdata>=2022.7 in c:\\users\\jose\\appdata\\local\\programs\\python\\python312\\lib\\site-packages (from pandas) (2024.1)\n",
      "Requirement already satisfied: six>=1.5 in c:\\users\\jose\\appdata\\local\\programs\\python\\python312\\lib\\site-packages (from python-dateutil>=2.8.2->pandas) (1.16.0)\n"
     ]
    }
   ],
   "source": [
    "!pip install numpy\n",
    "!pip install pandas"
   ]
  },
  {
   "cell_type": "code",
   "execution_count": 2,
   "id": "378b89f3-421a-498f-9212-65422fe8482b",
   "metadata": {},
   "outputs": [
    {
     "name": "stdout",
     "output_type": "stream",
     "text": [
      "ello \n"
     ]
    }
   ],
   "source": [
    "str =\"hello there , am happy\"\n",
    "substr = str[1:6]\n",
    "print(substr)"
   ]
  },
  {
   "cell_type": "code",
   "execution_count": 3,
   "id": "0a3e95e0-2a4d-4a6e-9c9d-1b8f6a367a95",
   "metadata": {},
   "outputs": [
    {
     "name": "stdout",
     "output_type": "stream",
     "text": [
      "there , am happy\n"
     ]
    }
   ],
   "source": [
    "str =\"hello there , am happy\"\n",
    "substr = str[6:]\n",
    "print(substr)"
   ]
  },
  {
   "cell_type": "code",
   "execution_count": 4,
   "id": "119e177f-12fd-416c-9d0e-25361d0b55b3",
   "metadata": {},
   "outputs": [
    {
     "name": "stdout",
     "output_type": "stream",
     "text": [
      "ellot\n"
     ]
    }
   ],
   "source": [
    "str =\"hellothere , am happy\"\n",
    "substr = str[1:6]\n",
    "print(substr)"
   ]
  },
  {
   "cell_type": "code",
   "execution_count": 5,
   "id": "f73473cf-c4d5-48a9-a05b-80be8d9494f1",
   "metadata": {},
   "outputs": [
    {
     "name": "stdout",
     "output_type": "stream",
     "text": [
      "hello there , am happy\n"
     ]
    }
   ],
   "source": [
    "str =\"hello there , am happy\"\n",
    "substr = str[:]\n",
    "print(substr)"
   ]
  },
  {
   "cell_type": "code",
   "execution_count": 6,
   "id": "ada5165a-1fda-4435-8db6-16d50ea6bcf0",
   "metadata": {},
   "outputs": [
    {
     "data": {
      "text/plain": [
       "'Hello there , am happy'"
      ]
     },
     "execution_count": 6,
     "metadata": {},
     "output_type": "execute_result"
    }
   ],
   "source": [
    "str.capitalize()"
   ]
  },
  {
   "cell_type": "code",
   "execution_count": 7,
   "id": "d7c795a7-cdd0-4845-a153-8cb35b65e89a",
   "metadata": {},
   "outputs": [
    {
     "data": {
      "text/plain": [
       "3"
      ]
     },
     "execution_count": 7,
     "metadata": {},
     "output_type": "execute_result"
    }
   ],
   "source": [
    "str.count('e')"
   ]
  },
  {
   "cell_type": "code",
   "execution_count": 8,
   "id": "21b0da19-e673-461d-9785-786e152bdda2",
   "metadata": {},
   "outputs": [
    {
     "data": {
      "text/plain": [
       "1"
      ]
     },
     "execution_count": 8,
     "metadata": {},
     "output_type": "execute_result"
    }
   ],
   "source": [
    "str .index('e')"
   ]
  },
  {
   "cell_type": "code",
   "execution_count": 9,
   "id": "6d210c91-a975-4708-8922-f2b53f8f9816",
   "metadata": {},
   "outputs": [
    {
     "data": {
      "text/plain": [
       "['hello', 'there', ',', 'am', 'happy']"
      ]
     },
     "execution_count": 9,
     "metadata": {},
     "output_type": "execute_result"
    }
   ],
   "source": [
    "str .split()"
   ]
  },
  {
   "cell_type": "code",
   "execution_count": null,
   "id": "027f0f36-240c-4250-aa85-5b475446507f",
   "metadata": {},
   "outputs": [],
   "source": []
  }
 ],
 "metadata": {
  "kernelspec": {
   "display_name": "Python 3 (ipykernel)",
   "language": "python",
   "name": "python3"
  },
  "language_info": {
   "codemirror_mode": {
    "name": "ipython",
    "version": 3
   },
   "file_extension": ".py",
   "mimetype": "text/x-python",
   "name": "python",
   "nbconvert_exporter": "python",
   "pygments_lexer": "ipython3",
   "version": "3.12.4"
  }
 },
 "nbformat": 4,
 "nbformat_minor": 5
}
