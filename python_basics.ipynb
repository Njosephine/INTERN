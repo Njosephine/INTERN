{
 "cells": [
  {
   "cell_type": "code",
   "execution_count": 1,
   "id": "23ce614b-40f3-481c-a852-3faa39450f47",
   "metadata": {},
   "outputs": [
    {
     "name": "stdout",
     "output_type": "stream",
     "text": [
      "elt\n"
     ]
    }
   ],
   "source": [
    "\n",
    "str =\"hellothere , am happy\"\n",
    "substr = str[1:6:2]\n",
    "print(substr)"
   ]
  },
  {
   "cell_type": "code",
   "execution_count": null,
   "id": "bf68f18f-82f8-4b06-befe-b46e5cccf3a6",
   "metadata": {},
   "outputs": [],
   "source": []
  },
  {
   "cell_type": "code",
   "execution_count": null,
   "id": "378b89f3-421a-498f-9212-65422fe8482b",
   "metadata": {},
   "outputs": [],
   "source": []
  }
 ],
 "metadata": {
  "kernelspec": {
   "display_name": "Python 3 (ipykernel)",
   "language": "python",
   "name": "python3"
  },
  "language_info": {
   "codemirror_mode": {
    "name": "ipython",
    "version": 3
   },
   "file_extension": ".py",
   "mimetype": "text/x-python",
   "name": "python",
   "nbconvert_exporter": "python",
   "pygments_lexer": "ipython3",
   "version": "3.12.4"
  }
 },
 "nbformat": 4,
 "nbformat_minor": 5
}
