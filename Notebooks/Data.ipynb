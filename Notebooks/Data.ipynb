{
 "cells": [
  {
   "cell_type": "code",
   "execution_count": 5,
   "id": "f5b4aa45-1180-40d5-83eb-d68010e10e14",
   "metadata": {},
   "outputs": [
    {
     "name": "stdout",
     "output_type": "stream",
     "text": [
      "python is fun\n",
      "Welcome to Computer Science\n",
      "Programming is fun\n",
      "python is fun python is fun python is fun python is fun python is fun \n"
     ]
    }
   ],
   "source": [
    "#PRINTING IN PYTHON\n",
    "print (\"python is fun\")\n",
    "print (\"Welcome to Computer Science\")\n",
    "print (\"Programming is fun\")\n",
    "print (\"python is fun\" \" \" *5)"
   ]
  },
  {
   "cell_type": "code",
   "execution_count": 9,
   "id": "d3ed8d66-7fab-4568-89af-e329db289661",
   "metadata": {},
   "outputs": [
    {
     "name": "stdout",
     "output_type": "stream",
     "text": [
      "FFFFFFF  U       U   NN     NN\n",
      "FF       U       U   NNN    NN\n",
      "FFFFFF   U       U   NN N   NN\n",
      "FF        U     U    NN  N  NN\n",
      "FF          UUU      NN    NNN \n"
     ]
    }
   ],
   "source": [
    "#display the a pattern\n",
    "pattern = [\"FFFFFFF  U       U   NN     NN\",\n",
    "           \"FF       U       U   NNN    NN\",\n",
    "           \"FFFFFF   U       U   NN N   NN\",\n",
    "           \"FF        U     U    NN  N  NN\",\n",
    "           \"FF          UUU      NN    NNN \"       \n",
    "    \n",
    "]\n",
    "for x in pattern:\n",
    "   print(x)\n"
   ]
  },
  {
   "cell_type": "code",
   "execution_count": 14,
   "id": "33ae10a6-87a3-45c2-b337-ac387ed4e87b",
   "metadata": {},
   "outputs": [
    {
     "name": "stdout",
     "output_type": "stream",
     "text": [
      "a     a^2    a^3\n",
      "1      1      1\n",
      "2      4      8\n",
      "3      9      27\n",
      "4      16     64\n"
     ]
    }
   ],
   "source": [
    "table = [\"a     a^2    a^3\",\n",
    "         \"1      1      1\",\n",
    "         \"2      4      8\",\n",
    "         \"3      9      27\",\n",
    "         \"4      16     64\"\n",
    "    \n",
    "]\n",
    "for x in table:\n",
    "   print(x) "
   ]
  },
  {
   "cell_type": "code",
   "execution_count": 15,
   "id": "2bf22517-76ee-488b-9cb5-171ddee71eeb",
   "metadata": {},
   "outputs": [
    {
     "name": "stdout",
     "output_type": "stream",
     "text": [
      "the result is: 0.7833333333333333\n"
     ]
    }
   ],
   "source": [
    "#compution of an exprssion\n",
    "expression = ((9.5*4.5)-(2.5*3))/(45.5-.5)\n",
    "print(\"the result is:\",expression)"
   ]
  },
  {
   "cell_type": "code",
   "execution_count": 16,
   "id": "2d36fb42-ca35-40d4-bd34-7ca20e37658a",
   "metadata": {},
   "outputs": [
    {
     "data": {
      "text/plain": [
       "45"
      ]
     },
     "execution_count": 16,
     "metadata": {},
     "output_type": "execute_result"
    }
   ],
   "source": [
    "#summation of the following series\n",
    "sum = 1+2+3+4+5+6+7+8+9\n",
    "sum\n"
   ]
  },
  {
   "cell_type": "code",
   "execution_count": 19,
   "id": "5d459ab2-0e87-4766-9e5f-71f2d0287c53",
   "metadata": {},
   "outputs": [
    {
     "data": {
      "text/plain": [
       "3.017071817071818"
      ]
     },
     "execution_count": 19,
     "metadata": {},
     "output_type": "execute_result"
    }
   ],
   "source": [
    "pi = 4 * (1-1/3+1/5-1/7+1/9-1/11)\n",
    "pi\n",
    "pi = 4 * (1-1/3+1/5-1/7+1/9-1/11+1/13-1/15)\n",
    "pi"
   ]
  },
  {
   "cell_type": "code",
   "execution_count": 24,
   "id": "9938330b-6a85-44c2-bd83-973b1ea3d044",
   "metadata": {},
   "outputs": [
    {
     "data": {
      "text/plain": [
       "95.0330975"
      ]
     },
     "execution_count": 24,
     "metadata": {},
     "output_type": "execute_result"
    }
   ],
   "source": [
    "#computation of the perimeter and area of the circle whose radius is 5.5\n",
    "radius = 5.5\n",
    "pi = 3.14159\n",
    "area = radius * radius * pi\n",
    "area\n",
    "\n",
    "\n"
   ]
  },
  {
   "cell_type": "code",
   "execution_count": 25,
   "id": "a9590856-3eb8-4270-9815-bffcd6cc2c74",
   "metadata": {},
   "outputs": [
    {
     "data": {
      "text/plain": [
       "34.55749"
      ]
     },
     "execution_count": 25,
     "metadata": {},
     "output_type": "execute_result"
    }
   ],
   "source": [
    "perimeter = 2 * radius * pi\n",
    "perimeter"
   ]
  },
  {
   "cell_type": "code",
   "execution_count": 42,
   "id": "a7225604-120c-4ebd-bd65-a046df6b447e",
   "metadata": {},
   "outputs": [
    {
     "name": "stdin",
     "output_type": "stream",
     "text": [
      "Enter the radius of the circle: 2.5\n"
     ]
    },
    {
     "name": "stdout",
     "output_type": "stream",
     "text": [
      "the area of a circle is: 20\n"
     ]
    }
   ],
   "source": [
    "#Reading input from the console\n",
    "#prompting the user to enter the radius\n",
    "# input :: Allowas the reading of the input as a string\n",
    "# eval :: Allows converting of a string to a number\n",
    "radius = eval(input(\"Enter the radius of the circle:\"))\n",
    "area =( pi * radius * radius)\n",
    "print (\"the area of a circle is:\",round(area))"
   ]
  },
  {
   "cell_type": "markdown",
   "id": "df2e59f6-f571-4888-a4ec-4bee6c4a6eaf",
   "metadata": {},
   "source": [
    "\n",
    "                "
   ]
  },
  {
   "cell_type": "code",
   "execution_count": 34,
   "id": "eaf0e6b6-3a59-48c2-b106-b122996a6df7",
   "metadata": {},
   "outputs": [
    {
     "name": "stdin",
     "output_type": "stream",
     "text": [
      "enter number1: 2\n",
      "enter number2: 3\n",
      "enter number3: 4\n"
     ]
    },
    {
     "name": "stdout",
     "output_type": "stream",
     "text": [
      "the average of three numbers is: 3.0\n"
     ]
    }
   ],
   "source": [
    "#A program that prompts the user to enter three values and then computes their average\n",
    "number1 = eval(input(\"enter number1:\"))\n",
    "number2 = eval(input(\"enter number2:\"))\n",
    "number3 = eval(input(\"enter number3:\"))\n",
    "average = (number1 + number2 + number3)/3\n",
    "print (\"the average of three numbers is:\",average)"
   ]
  },
  {
   "cell_type": "code",
   "execution_count": 35,
   "id": "539edd42-ec75-4ab4-89e0-7e307855bf6e",
   "metadata": {},
   "outputs": [
    {
     "name": "stdin",
     "output_type": "stream",
     "text": [
      "Enter the three numbers: 1,2,3\n"
     ]
    },
    {
     "name": "stdout",
     "output_type": "stream",
     "text": [
      "the average of three numbers is: 2.0\n"
     ]
    }
   ],
   "source": [
    "#Simultaneous assignment\n",
    "number1,number2,number3 = eval(input(\"Enter the three numbers:\"))\n",
    "average = (number1 + number2 + number3)/3\n",
    "print (\"the average of three numbers is:\",average)\n"
   ]
  },
  {
   "cell_type": "code",
   "execution_count": null,
   "id": "518111e6-c48c-48aa-b17e-95308294306c",
   "metadata": {},
   "outputs": [],
   "source": []
  }
 ],
 "metadata": {
  "kernelspec": {
   "display_name": "Python 3 (ipykernel)",
   "language": "python",
   "name": "python3"
  },
  "language_info": {
   "codemirror_mode": {
    "name": "ipython",
    "version": 3
   },
   "file_extension": ".py",
   "mimetype": "text/x-python",
   "name": "python",
   "nbconvert_exporter": "python",
   "pygments_lexer": "ipython3",
   "version": "3.12.4"
  }
 },
 "nbformat": 4,
 "nbformat_minor": 5
}
